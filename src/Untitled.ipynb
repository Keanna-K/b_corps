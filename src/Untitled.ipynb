{
 "cells": [
  {
   "cell_type": "code",
   "execution_count": 10,
   "metadata": {},
   "outputs": [],
   "source": [
    "import pandas as pd\n",
    "import json\n",
    "\n",
    "# Plotly\n",
    "import plotly.graph_objects as go\n",
    "import plotly.express as px"
   ]
  },
  {
   "cell_type": "code",
   "execution_count": 11,
   "metadata": {},
   "outputs": [],
   "source": [
    "df = pd.read_csv(\"../data/mapped_ont_bcorps.csv\")"
   ]
  },
  {
   "cell_type": "code",
   "execution_count": 12,
   "metadata": {},
   "outputs": [],
   "source": [
    "#df.replace('N/A ', 0, inplace=True)"
   ]
  },
  {
   "cell_type": "code",
   "execution_count": 13,
   "metadata": {},
   "outputs": [
    {
     "data": {
      "text/html": [
       "<div>\n",
       "<style scoped>\n",
       "    .dataframe tbody tr th:only-of-type {\n",
       "        vertical-align: middle;\n",
       "    }\n",
       "\n",
       "    .dataframe tbody tr th {\n",
       "        vertical-align: top;\n",
       "    }\n",
       "\n",
       "    .dataframe thead th {\n",
       "        text-align: right;\n",
       "    }\n",
       "</style>\n",
       "<table border=\"1\" class=\"dataframe\">\n",
       "  <thead>\n",
       "    <tr style=\"text-align: right;\">\n",
       "      <th></th>\n",
       "      <th>company_name</th>\n",
       "      <th>date_first_certified</th>\n",
       "      <th>date_certified</th>\n",
       "      <th>current_status</th>\n",
       "      <th>description</th>\n",
       "      <th>industry</th>\n",
       "      <th>industry_category</th>\n",
       "      <th>products_and_services</th>\n",
       "      <th>country</th>\n",
       "      <th>state</th>\n",
       "      <th>...</th>\n",
       "      <th>impact_area_customers</th>\n",
       "      <th>impact_area_environment</th>\n",
       "      <th>impact_area_governance</th>\n",
       "      <th>impact_area_workers</th>\n",
       "      <th>geom</th>\n",
       "      <th>specific</th>\n",
       "      <th>lat</th>\n",
       "      <th>long</th>\n",
       "      <th>year_certified</th>\n",
       "      <th>year_first_certified</th>\n",
       "    </tr>\n",
       "  </thead>\n",
       "  <tbody>\n",
       "    <tr>\n",
       "      <th>0</th>\n",
       "      <td>Vancity Community Investment Bank</td>\n",
       "      <td>2018-02-13</td>\n",
       "      <td>2018-02-13</td>\n",
       "      <td>certified</td>\n",
       "      <td>VCIB is a nationally-focused subsidiary of Van...</td>\n",
       "      <td>Credit Provider</td>\n",
       "      <td>Financial Services</td>\n",
       "      <td>VCIB provides debt financing and advisory serv...</td>\n",
       "      <td>Canada</td>\n",
       "      <td>Ontario</td>\n",
       "      <td>...</td>\n",
       "      <td>14.1</td>\n",
       "      <td>10.9</td>\n",
       "      <td>11.8</td>\n",
       "      <td>33.3</td>\n",
       "      <td>{'lat': 43.653226, 'lng': -79.3831843}</td>\n",
       "      <td>0</td>\n",
       "      <td>43.653226</td>\n",
       "      <td>-79.383184</td>\n",
       "      <td>2018</td>\n",
       "      <td>2018</td>\n",
       "    </tr>\n",
       "    <tr>\n",
       "      <th>1</th>\n",
       "      <td>PenFinancial Credit Union Limited</td>\n",
       "      <td>2019-01-30</td>\n",
       "      <td>2019-01-30</td>\n",
       "      <td>certified</td>\n",
       "      <td>A truly local Niagara based financial co-opera...</td>\n",
       "      <td>Other</td>\n",
       "      <td>Financial Services</td>\n",
       "      <td>Financial products and services, including wea...</td>\n",
       "      <td>Canada</td>\n",
       "      <td>Ontario</td>\n",
       "      <td>...</td>\n",
       "      <td>13.2</td>\n",
       "      <td>2.2</td>\n",
       "      <td>19.6</td>\n",
       "      <td>37.7</td>\n",
       "      <td>{'lat': 42.992828, 'lng': -79.24302999999999}</td>\n",
       "      <td>1</td>\n",
       "      <td>42.992828</td>\n",
       "      <td>-79.243030</td>\n",
       "      <td>2019</td>\n",
       "      <td>2019</td>\n",
       "    </tr>\n",
       "    <tr>\n",
       "      <th>2</th>\n",
       "      <td>Ian Martin Group</td>\n",
       "      <td>2012-01-09</td>\n",
       "      <td>2019-03-01</td>\n",
       "      <td>certified</td>\n",
       "      <td>Founded by engineers to support the needs of t...</td>\n",
       "      <td>HR Consulting &amp; Recruiting</td>\n",
       "      <td>Business Products &amp; Services</td>\n",
       "      <td>Technical Recruiting and Hiring Technology</td>\n",
       "      <td>Canada</td>\n",
       "      <td>Ontario</td>\n",
       "      <td>...</td>\n",
       "      <td>0.0</td>\n",
       "      <td>11.3</td>\n",
       "      <td>22.0</td>\n",
       "      <td>34.6</td>\n",
       "      <td>{'lat': 43.4665765, 'lng': -79.67689879999999}</td>\n",
       "      <td>1</td>\n",
       "      <td>43.466577</td>\n",
       "      <td>-79.676899</td>\n",
       "      <td>2019</td>\n",
       "      <td>2012</td>\n",
       "    </tr>\n",
       "    <tr>\n",
       "      <th>3</th>\n",
       "      <td>Ian Martin Group</td>\n",
       "      <td>2012-01-09</td>\n",
       "      <td>2016-05-11</td>\n",
       "      <td>certified</td>\n",
       "      <td>Founded by engineers to support the needs of t...</td>\n",
       "      <td>HR Consulting &amp; Recruiting</td>\n",
       "      <td>Business Products &amp; Services</td>\n",
       "      <td>Technical Recruiting and Hiring Technology</td>\n",
       "      <td>Canada</td>\n",
       "      <td>Ontario</td>\n",
       "      <td>...</td>\n",
       "      <td>0.4</td>\n",
       "      <td>10.4</td>\n",
       "      <td>22.4</td>\n",
       "      <td>35.9</td>\n",
       "      <td>{'lat': 43.4665765, 'lng': -79.67689879999999}</td>\n",
       "      <td>1</td>\n",
       "      <td>43.466577</td>\n",
       "      <td>-79.676899</td>\n",
       "      <td>2016</td>\n",
       "      <td>2012</td>\n",
       "    </tr>\n",
       "    <tr>\n",
       "      <th>4</th>\n",
       "      <td>Ian Martin Group</td>\n",
       "      <td>2012-01-09</td>\n",
       "      <td>2014-03-17</td>\n",
       "      <td>certified</td>\n",
       "      <td>Founded by engineers to support the needs of t...</td>\n",
       "      <td>HR Consulting &amp; Recruiting</td>\n",
       "      <td>Business Products &amp; Services</td>\n",
       "      <td>Technical Recruiting and Hiring Technology</td>\n",
       "      <td>Canada</td>\n",
       "      <td>Ontario</td>\n",
       "      <td>...</td>\n",
       "      <td>0.0</td>\n",
       "      <td>7.2</td>\n",
       "      <td>18.5</td>\n",
       "      <td>28.5</td>\n",
       "      <td>{'lat': 43.4665765, 'lng': -79.67689879999999}</td>\n",
       "      <td>1</td>\n",
       "      <td>43.466577</td>\n",
       "      <td>-79.676899</td>\n",
       "      <td>2014</td>\n",
       "      <td>2012</td>\n",
       "    </tr>\n",
       "    <tr>\n",
       "      <th>...</th>\n",
       "      <td>...</td>\n",
       "      <td>...</td>\n",
       "      <td>...</td>\n",
       "      <td>...</td>\n",
       "      <td>...</td>\n",
       "      <td>...</td>\n",
       "      <td>...</td>\n",
       "      <td>...</td>\n",
       "      <td>...</td>\n",
       "      <td>...</td>\n",
       "      <td>...</td>\n",
       "      <td>...</td>\n",
       "      <td>...</td>\n",
       "      <td>...</td>\n",
       "      <td>...</td>\n",
       "      <td>...</td>\n",
       "      <td>...</td>\n",
       "      <td>...</td>\n",
       "      <td>...</td>\n",
       "      <td>...</td>\n",
       "      <td>...</td>\n",
       "    </tr>\n",
       "    <tr>\n",
       "      <th>216</th>\n",
       "      <td>Neighbourhood Group of Companies</td>\n",
       "      <td>2016-03-14</td>\n",
       "      <td>2018-05-14</td>\n",
       "      <td>certified</td>\n",
       "      <td>The Neighbourhood Group of Companies operates ...</td>\n",
       "      <td>Restaurant</td>\n",
       "      <td>Restaurant, Hospitality &amp; Travel</td>\n",
       "      <td>Locally Crafted Food and Beverages</td>\n",
       "      <td>Canada</td>\n",
       "      <td>Ontario</td>\n",
       "      <td>...</td>\n",
       "      <td>0.0</td>\n",
       "      <td>18.9</td>\n",
       "      <td>13.2</td>\n",
       "      <td>18.6</td>\n",
       "      <td>{'lat': 43.548023, 'lng': -80.25260240000001}</td>\n",
       "      <td>1</td>\n",
       "      <td>43.548023</td>\n",
       "      <td>-80.252602</td>\n",
       "      <td>2018</td>\n",
       "      <td>2016</td>\n",
       "    </tr>\n",
       "    <tr>\n",
       "      <th>217</th>\n",
       "      <td>Neighbourhood Group of Companies</td>\n",
       "      <td>2016-03-14</td>\n",
       "      <td>2016-03-14</td>\n",
       "      <td>certified</td>\n",
       "      <td>The Neighbourhood Group of Companies operates ...</td>\n",
       "      <td>Restaurant</td>\n",
       "      <td>Restaurant, Hospitality &amp; Travel</td>\n",
       "      <td>Locally Crafted Food and Beverages</td>\n",
       "      <td>Canada</td>\n",
       "      <td>Ontario</td>\n",
       "      <td>...</td>\n",
       "      <td>0.0</td>\n",
       "      <td>19.4</td>\n",
       "      <td>7.9</td>\n",
       "      <td>17.7</td>\n",
       "      <td>{'lat': 43.548023, 'lng': -80.25260240000001}</td>\n",
       "      <td>1</td>\n",
       "      <td>43.548023</td>\n",
       "      <td>-80.252602</td>\n",
       "      <td>2016</td>\n",
       "      <td>2016</td>\n",
       "    </tr>\n",
       "    <tr>\n",
       "      <th>218</th>\n",
       "      <td>Barriston LLP</td>\n",
       "      <td>2019-08-02</td>\n",
       "      <td>2019-08-02</td>\n",
       "      <td>certified</td>\n",
       "      <td>Barriston Law is a full service law firm in Ce...</td>\n",
       "      <td>Legal</td>\n",
       "      <td>Legal Services</td>\n",
       "      <td>Legal Services</td>\n",
       "      <td>Canada</td>\n",
       "      <td>Ontario</td>\n",
       "      <td>...</td>\n",
       "      <td>2.9</td>\n",
       "      <td>6.4</td>\n",
       "      <td>7.6</td>\n",
       "      <td>33.8</td>\n",
       "      <td>{'lat': 44.407875, 'lng': -79.690113}</td>\n",
       "      <td>1</td>\n",
       "      <td>44.407875</td>\n",
       "      <td>-79.690113</td>\n",
       "      <td>2019</td>\n",
       "      <td>2019</td>\n",
       "    </tr>\n",
       "    <tr>\n",
       "      <th>219</th>\n",
       "      <td>Enviro-Stewards</td>\n",
       "      <td>2011-09-06</td>\n",
       "      <td>2011-09-06</td>\n",
       "      <td>certified</td>\n",
       "      <td>Enviro-Stewards Inc’s Engineers &amp; Scientists s...</td>\n",
       "      <td>Sustainability Consulting</td>\n",
       "      <td>Business Products &amp; Services</td>\n",
       "      <td>Energy Efficiency, Water Conservation, Sustain...</td>\n",
       "      <td>Canada</td>\n",
       "      <td>Ontario</td>\n",
       "      <td>...</td>\n",
       "      <td>34.3</td>\n",
       "      <td>14.3</td>\n",
       "      <td>13.6</td>\n",
       "      <td>41.4</td>\n",
       "      <td>{'lat': 43.5957988, 'lng': -80.55278899999999}</td>\n",
       "      <td>1</td>\n",
       "      <td>43.595799</td>\n",
       "      <td>-80.552789</td>\n",
       "      <td>2011</td>\n",
       "      <td>2011</td>\n",
       "    </tr>\n",
       "    <tr>\n",
       "      <th>220</th>\n",
       "      <td>FlipGive</td>\n",
       "      <td>2009-02-19</td>\n",
       "      <td>2009-02-19</td>\n",
       "      <td>certified</td>\n",
       "      <td>Provider of a digital platform that connects b...</td>\n",
       "      <td>IT Software &amp; Services/Web Design</td>\n",
       "      <td>Business Products &amp; Services</td>\n",
       "      <td>Give-Marketing Platform and Programs</td>\n",
       "      <td>Canada</td>\n",
       "      <td>Ontario</td>\n",
       "      <td>...</td>\n",
       "      <td>57.1</td>\n",
       "      <td>8.6</td>\n",
       "      <td>12.7</td>\n",
       "      <td>28.3</td>\n",
       "      <td>{'lat': 43.6431718, 'lng': -79.39028549999999}</td>\n",
       "      <td>1</td>\n",
       "      <td>43.643172</td>\n",
       "      <td>-79.390285</td>\n",
       "      <td>2009</td>\n",
       "      <td>2009</td>\n",
       "    </tr>\n",
       "  </tbody>\n",
       "</table>\n",
       "<p>221 rows × 28 columns</p>\n",
       "</div>"
      ],
      "text/plain": [
       "                          company_name date_first_certified date_certified  \\\n",
       "0    Vancity Community Investment Bank           2018-02-13     2018-02-13   \n",
       "1    PenFinancial Credit Union Limited           2019-01-30     2019-01-30   \n",
       "2                     Ian Martin Group           2012-01-09     2019-03-01   \n",
       "3                     Ian Martin Group           2012-01-09     2016-05-11   \n",
       "4                     Ian Martin Group           2012-01-09     2014-03-17   \n",
       "..                                 ...                  ...            ...   \n",
       "216   Neighbourhood Group of Companies           2016-03-14     2018-05-14   \n",
       "217   Neighbourhood Group of Companies           2016-03-14     2016-03-14   \n",
       "218                      Barriston LLP           2019-08-02     2019-08-02   \n",
       "219                    Enviro-Stewards           2011-09-06     2011-09-06   \n",
       "220                           FlipGive           2009-02-19     2009-02-19   \n",
       "\n",
       "    current_status                                        description  \\\n",
       "0        certified  VCIB is a nationally-focused subsidiary of Van...   \n",
       "1        certified  A truly local Niagara based financial co-opera...   \n",
       "2        certified  Founded by engineers to support the needs of t...   \n",
       "3        certified  Founded by engineers to support the needs of t...   \n",
       "4        certified  Founded by engineers to support the needs of t...   \n",
       "..             ...                                                ...   \n",
       "216      certified  The Neighbourhood Group of Companies operates ...   \n",
       "217      certified  The Neighbourhood Group of Companies operates ...   \n",
       "218      certified  Barriston Law is a full service law firm in Ce...   \n",
       "219      certified  Enviro-Stewards Inc’s Engineers & Scientists s...   \n",
       "220      certified  Provider of a digital platform that connects b...   \n",
       "\n",
       "                              industry                 industry_category  \\\n",
       "0                      Credit Provider                Financial Services   \n",
       "1                                Other                Financial Services   \n",
       "2           HR Consulting & Recruiting      Business Products & Services   \n",
       "3           HR Consulting & Recruiting      Business Products & Services   \n",
       "4           HR Consulting & Recruiting      Business Products & Services   \n",
       "..                                 ...                               ...   \n",
       "216                         Restaurant  Restaurant, Hospitality & Travel   \n",
       "217                         Restaurant  Restaurant, Hospitality & Travel   \n",
       "218                              Legal                    Legal Services   \n",
       "219          Sustainability Consulting      Business Products & Services   \n",
       "220  IT Software & Services/Web Design      Business Products & Services   \n",
       "\n",
       "                                 products_and_services country    state  ...  \\\n",
       "0    VCIB provides debt financing and advisory serv...  Canada  Ontario  ...   \n",
       "1    Financial products and services, including wea...  Canada  Ontario  ...   \n",
       "2           Technical Recruiting and Hiring Technology  Canada  Ontario  ...   \n",
       "3           Technical Recruiting and Hiring Technology  Canada  Ontario  ...   \n",
       "4           Technical Recruiting and Hiring Technology  Canada  Ontario  ...   \n",
       "..                                                 ...     ...      ...  ...   \n",
       "216                 Locally Crafted Food and Beverages  Canada  Ontario  ...   \n",
       "217                 Locally Crafted Food and Beverages  Canada  Ontario  ...   \n",
       "218                                     Legal Services  Canada  Ontario  ...   \n",
       "219  Energy Efficiency, Water Conservation, Sustain...  Canada  Ontario  ...   \n",
       "220               Give-Marketing Platform and Programs  Canada  Ontario  ...   \n",
       "\n",
       "    impact_area_customers impact_area_environment impact_area_governance  \\\n",
       "0                    14.1                    10.9                   11.8   \n",
       "1                    13.2                     2.2                   19.6   \n",
       "2                     0.0                    11.3                   22.0   \n",
       "3                     0.4                    10.4                   22.4   \n",
       "4                     0.0                     7.2                   18.5   \n",
       "..                    ...                     ...                    ...   \n",
       "216                   0.0                    18.9                   13.2   \n",
       "217                   0.0                    19.4                    7.9   \n",
       "218                   2.9                     6.4                    7.6   \n",
       "219                  34.3                    14.3                   13.6   \n",
       "220                  57.1                     8.6                   12.7   \n",
       "\n",
       "    impact_area_workers                                            geom  \\\n",
       "0                  33.3          {'lat': 43.653226, 'lng': -79.3831843}   \n",
       "1                  37.7   {'lat': 42.992828, 'lng': -79.24302999999999}   \n",
       "2                  34.6  {'lat': 43.4665765, 'lng': -79.67689879999999}   \n",
       "3                  35.9  {'lat': 43.4665765, 'lng': -79.67689879999999}   \n",
       "4                  28.5  {'lat': 43.4665765, 'lng': -79.67689879999999}   \n",
       "..                  ...                                             ...   \n",
       "216                18.6   {'lat': 43.548023, 'lng': -80.25260240000001}   \n",
       "217                17.7   {'lat': 43.548023, 'lng': -80.25260240000001}   \n",
       "218                33.8           {'lat': 44.407875, 'lng': -79.690113}   \n",
       "219                41.4  {'lat': 43.5957988, 'lng': -80.55278899999999}   \n",
       "220                28.3  {'lat': 43.6431718, 'lng': -79.39028549999999}   \n",
       "\n",
       "     specific        lat       long  year_certified  year_first_certified  \n",
       "0           0  43.653226 -79.383184            2018                  2018  \n",
       "1           1  42.992828 -79.243030            2019                  2019  \n",
       "2           1  43.466577 -79.676899            2019                  2012  \n",
       "3           1  43.466577 -79.676899            2016                  2012  \n",
       "4           1  43.466577 -79.676899            2014                  2012  \n",
       "..        ...        ...        ...             ...                   ...  \n",
       "216         1  43.548023 -80.252602            2018                  2016  \n",
       "217         1  43.548023 -80.252602            2016                  2016  \n",
       "218         1  44.407875 -79.690113            2019                  2019  \n",
       "219         1  43.595799 -80.552789            2011                  2011  \n",
       "220         1  43.643172 -79.390285            2009                  2009  \n",
       "\n",
       "[221 rows x 28 columns]"
      ]
     },
     "execution_count": 13,
     "metadata": {},
     "output_type": "execute_result"
    }
   ],
   "source": [
    "df"
   ]
  },
  {
   "cell_type": "code",
   "execution_count": 16,
   "metadata": {},
   "outputs": [
    {
     "name": "stderr",
     "output_type": "stream",
     "text": [
      "/home/keanna/anaconda3/lib/python3.7/site-packages/ipykernel_launcher.py:2: SettingWithCopyWarning: \n",
      "A value is trying to be set on a copy of a slice from a DataFrame\n",
      "\n",
      "See the caveats in the documentation: https://pandas.pydata.org/pandas-docs/stable/user_guide/indexing.html#returning-a-view-versus-a-copy\n",
      "  \n"
     ]
    },
    {
     "data": {
      "text/html": [
       "<div>\n",
       "<style scoped>\n",
       "    .dataframe tbody tr th:only-of-type {\n",
       "        vertical-align: middle;\n",
       "    }\n",
       "\n",
       "    .dataframe tbody tr th {\n",
       "        vertical-align: top;\n",
       "    }\n",
       "\n",
       "    .dataframe thead th {\n",
       "        text-align: right;\n",
       "    }\n",
       "</style>\n",
       "<table border=\"1\" class=\"dataframe\">\n",
       "  <thead>\n",
       "    <tr style=\"text-align: right;\">\n",
       "      <th></th>\n",
       "      <th>company_name</th>\n",
       "      <th>date_first_certified</th>\n",
       "      <th>date_certified</th>\n",
       "      <th>current_status</th>\n",
       "      <th>description</th>\n",
       "      <th>industry</th>\n",
       "      <th>industry_category</th>\n",
       "      <th>products_and_services</th>\n",
       "      <th>country</th>\n",
       "      <th>state</th>\n",
       "      <th>...</th>\n",
       "      <th>impact_area_customers</th>\n",
       "      <th>impact_area_environment</th>\n",
       "      <th>impact_area_governance</th>\n",
       "      <th>impact_area_workers</th>\n",
       "      <th>geom</th>\n",
       "      <th>specific</th>\n",
       "      <th>lat</th>\n",
       "      <th>long</th>\n",
       "      <th>year_certified</th>\n",
       "      <th>year_first_certified</th>\n",
       "    </tr>\n",
       "  </thead>\n",
       "  <tbody>\n",
       "    <tr>\n",
       "      <th>0</th>\n",
       "      <td>Ian Martin Group</td>\n",
       "      <td>2012-01-09</td>\n",
       "      <td>2016-05-11</td>\n",
       "      <td>certified</td>\n",
       "      <td>Founded by engineers to support the needs of t...</td>\n",
       "      <td>HR Consulting &amp; Recruiting</td>\n",
       "      <td>Business Products &amp; Services</td>\n",
       "      <td>Technical Recruiting and Hiring Technology</td>\n",
       "      <td>Canada</td>\n",
       "      <td>Ontario</td>\n",
       "      <td>...</td>\n",
       "      <td>0.4</td>\n",
       "      <td>10.4</td>\n",
       "      <td>22.4</td>\n",
       "      <td>35.9</td>\n",
       "      <td>{'lat': 43.4665765, 'lng': -79.67689879999999}</td>\n",
       "      <td>1</td>\n",
       "      <td>43.466577</td>\n",
       "      <td>-79.676899</td>\n",
       "      <td>2016</td>\n",
       "      <td>2012</td>\n",
       "    </tr>\n",
       "    <tr>\n",
       "      <th>1</th>\n",
       "      <td>Oliberte Limited</td>\n",
       "      <td>2012-06-20</td>\n",
       "      <td>2016-11-17</td>\n",
       "      <td>certified</td>\n",
       "      <td>Oliberté is a Canadian premium leather goods c...</td>\n",
       "      <td>Apparel, Footwear &amp; Accessories</td>\n",
       "      <td>Consumer Products &amp; Services</td>\n",
       "      <td>Footwear, Bags</td>\n",
       "      <td>Canada</td>\n",
       "      <td>Ontario</td>\n",
       "      <td>...</td>\n",
       "      <td>0.0</td>\n",
       "      <td>17.0</td>\n",
       "      <td>15.5</td>\n",
       "      <td>17.3</td>\n",
       "      <td>{'lat': 43.467517, 'lng': -79.6876659}</td>\n",
       "      <td>0</td>\n",
       "      <td>43.467517</td>\n",
       "      <td>-79.687666</td>\n",
       "      <td>2016</td>\n",
       "      <td>2012</td>\n",
       "    </tr>\n",
       "    <tr>\n",
       "      <th>2</th>\n",
       "      <td>AccertaClaim Servicorp Inc.</td>\n",
       "      <td>2017-01-24</td>\n",
       "      <td>2017-01-24</td>\n",
       "      <td>certified</td>\n",
       "      <td>AccertaClaim Servicorp Inc.'s focus and expert...</td>\n",
       "      <td>Health Insurance</td>\n",
       "      <td>Health &amp; Human Services</td>\n",
       "      <td>Claims Benefit Management</td>\n",
       "      <td>Canada</td>\n",
       "      <td>Ontario</td>\n",
       "      <td>...</td>\n",
       "      <td>27.7</td>\n",
       "      <td>6.8</td>\n",
       "      <td>13.3</td>\n",
       "      <td>25.4</td>\n",
       "      <td>{'lat': 43.660489, 'lng': -79.384447}</td>\n",
       "      <td>1</td>\n",
       "      <td>43.660489</td>\n",
       "      <td>-79.384447</td>\n",
       "      <td>2017</td>\n",
       "      <td>2017</td>\n",
       "    </tr>\n",
       "    <tr>\n",
       "      <th>3</th>\n",
       "      <td>Rally Assets</td>\n",
       "      <td>2012-01-10</td>\n",
       "      <td>2015-12-30</td>\n",
       "      <td>certified</td>\n",
       "      <td>Rally Assets (formerly Purpose Capital) is a f...</td>\n",
       "      <td>Other</td>\n",
       "      <td>Financial Services</td>\n",
       "      <td>Impact Investment Advisory</td>\n",
       "      <td>Canada</td>\n",
       "      <td>Ontario</td>\n",
       "      <td>...</td>\n",
       "      <td>28.6</td>\n",
       "      <td>8.4</td>\n",
       "      <td>16.3</td>\n",
       "      <td>23.1</td>\n",
       "      <td>{'lat': 43.6486763, 'lng': -79.38412760000001}</td>\n",
       "      <td>1</td>\n",
       "      <td>43.648676</td>\n",
       "      <td>-79.384128</td>\n",
       "      <td>2015</td>\n",
       "      <td>2012</td>\n",
       "    </tr>\n",
       "    <tr>\n",
       "      <th>4</th>\n",
       "      <td>Flow Office Wisdom</td>\n",
       "      <td>2015-07-02</td>\n",
       "      <td>2017-07-25</td>\n",
       "      <td>certified</td>\n",
       "      <td>Supporting a movement. Changing the world one ...</td>\n",
       "      <td>Other</td>\n",
       "      <td>Business Products &amp; Services</td>\n",
       "      <td>Business Administration Services</td>\n",
       "      <td>Canada</td>\n",
       "      <td>Ontario</td>\n",
       "      <td>...</td>\n",
       "      <td>6.8</td>\n",
       "      <td>1.2</td>\n",
       "      <td>13.3</td>\n",
       "      <td>32.7</td>\n",
       "      <td>{'lat': 43.5292932, 'lng': -80.2559799}</td>\n",
       "      <td>1</td>\n",
       "      <td>43.529293</td>\n",
       "      <td>-80.255980</td>\n",
       "      <td>2017</td>\n",
       "      <td>2015</td>\n",
       "    </tr>\n",
       "    <tr>\n",
       "      <th>...</th>\n",
       "      <td>...</td>\n",
       "      <td>...</td>\n",
       "      <td>...</td>\n",
       "      <td>...</td>\n",
       "      <td>...</td>\n",
       "      <td>...</td>\n",
       "      <td>...</td>\n",
       "      <td>...</td>\n",
       "      <td>...</td>\n",
       "      <td>...</td>\n",
       "      <td>...</td>\n",
       "      <td>...</td>\n",
       "      <td>...</td>\n",
       "      <td>...</td>\n",
       "      <td>...</td>\n",
       "      <td>...</td>\n",
       "      <td>...</td>\n",
       "      <td>...</td>\n",
       "      <td>...</td>\n",
       "      <td>...</td>\n",
       "      <td>...</td>\n",
       "    </tr>\n",
       "    <tr>\n",
       "      <th>77</th>\n",
       "      <td>TACK10 Strategy</td>\n",
       "      <td>2017-10-25</td>\n",
       "      <td>2017-10-25</td>\n",
       "      <td>certified</td>\n",
       "      <td>Manifesto\\n\\nTACK10 is an award-winning profes...</td>\n",
       "      <td>Marketing &amp; Communications Services</td>\n",
       "      <td>Business Products &amp; Services</td>\n",
       "      <td>Award Winning Professional Consultancy</td>\n",
       "      <td>Canada</td>\n",
       "      <td>Ontario</td>\n",
       "      <td>...</td>\n",
       "      <td>15.4</td>\n",
       "      <td>6.7</td>\n",
       "      <td>13.7</td>\n",
       "      <td>33.1</td>\n",
       "      <td>{'lat': 43.636831, 'lng': -79.426226}</td>\n",
       "      <td>1</td>\n",
       "      <td>43.636831</td>\n",
       "      <td>-79.426226</td>\n",
       "      <td>2017</td>\n",
       "      <td>2017</td>\n",
       "    </tr>\n",
       "    <tr>\n",
       "      <th>78</th>\n",
       "      <td>GlobeScan Incorporated</td>\n",
       "      <td>2017-08-30</td>\n",
       "      <td>2017-08-30</td>\n",
       "      <td>certified</td>\n",
       "      <td>GlobeScan is a world leader in identifying, un...</td>\n",
       "      <td>Research &amp; Design</td>\n",
       "      <td>Business Products &amp; Services</td>\n",
       "      <td>Research and advisory services</td>\n",
       "      <td>Canada</td>\n",
       "      <td>Ontario</td>\n",
       "      <td>...</td>\n",
       "      <td>16.2</td>\n",
       "      <td>7.3</td>\n",
       "      <td>12.0</td>\n",
       "      <td>35.0</td>\n",
       "      <td>{'lat': 43.64984010000001, 'lng': -79.3692382}</td>\n",
       "      <td>1</td>\n",
       "      <td>43.649840</td>\n",
       "      <td>-79.369238</td>\n",
       "      <td>2017</td>\n",
       "      <td>2017</td>\n",
       "    </tr>\n",
       "    <tr>\n",
       "      <th>79</th>\n",
       "      <td>Summerhill</td>\n",
       "      <td>2013-07-17</td>\n",
       "      <td>2017-10-30</td>\n",
       "      <td>certified</td>\n",
       "      <td>Summerhill is a leading Energy Efficiency and ...</td>\n",
       "      <td>Other</td>\n",
       "      <td>Energy &amp; Environmental Services</td>\n",
       "      <td>Energy Efficiency program design and implement...</td>\n",
       "      <td>Canada</td>\n",
       "      <td>Ontario</td>\n",
       "      <td>...</td>\n",
       "      <td>0.0</td>\n",
       "      <td>28.4</td>\n",
       "      <td>14.5</td>\n",
       "      <td>31.6</td>\n",
       "      <td>{'lat': 43.6811436, 'lng': -79.3944199}</td>\n",
       "      <td>1</td>\n",
       "      <td>43.681144</td>\n",
       "      <td>-79.394420</td>\n",
       "      <td>2017</td>\n",
       "      <td>2013</td>\n",
       "    </tr>\n",
       "    <tr>\n",
       "      <th>80</th>\n",
       "      <td>The Raw Office</td>\n",
       "      <td>2016-02-16</td>\n",
       "      <td>2016-02-16</td>\n",
       "      <td>certified</td>\n",
       "      <td>Raw Office saves businesses an average of 20% ...</td>\n",
       "      <td>Office Products &amp; Printing</td>\n",
       "      <td>Business Products &amp; Services</td>\n",
       "      <td>Business procurement supplies for the office, ...</td>\n",
       "      <td>Canada</td>\n",
       "      <td>Ontario</td>\n",
       "      <td>...</td>\n",
       "      <td>0.0</td>\n",
       "      <td>27.4</td>\n",
       "      <td>5.8</td>\n",
       "      <td>20.7</td>\n",
       "      <td>{'lat': 43.653226, 'lng': -79.3831843}</td>\n",
       "      <td>0</td>\n",
       "      <td>43.653226</td>\n",
       "      <td>-79.383184</td>\n",
       "      <td>2016</td>\n",
       "      <td>2016</td>\n",
       "    </tr>\n",
       "    <tr>\n",
       "      <th>81</th>\n",
       "      <td>Neighbourhood Group of Companies</td>\n",
       "      <td>2016-03-14</td>\n",
       "      <td>2016-03-14</td>\n",
       "      <td>certified</td>\n",
       "      <td>The Neighbourhood Group of Companies operates ...</td>\n",
       "      <td>Restaurant</td>\n",
       "      <td>Restaurant, Hospitality &amp; Travel</td>\n",
       "      <td>Locally Crafted Food and Beverages</td>\n",
       "      <td>Canada</td>\n",
       "      <td>Ontario</td>\n",
       "      <td>...</td>\n",
       "      <td>0.0</td>\n",
       "      <td>19.4</td>\n",
       "      <td>7.9</td>\n",
       "      <td>17.7</td>\n",
       "      <td>{'lat': 43.548023, 'lng': -80.25260240000001}</td>\n",
       "      <td>1</td>\n",
       "      <td>43.548023</td>\n",
       "      <td>-80.252602</td>\n",
       "      <td>2016</td>\n",
       "      <td>2016</td>\n",
       "    </tr>\n",
       "  </tbody>\n",
       "</table>\n",
       "<p>82 rows × 28 columns</p>\n",
       "</div>"
      ],
      "text/plain": [
       "                        company_name date_first_certified date_certified  \\\n",
       "0                   Ian Martin Group           2012-01-09     2016-05-11   \n",
       "1                   Oliberte Limited           2012-06-20     2016-11-17   \n",
       "2        AccertaClaim Servicorp Inc.           2017-01-24     2017-01-24   \n",
       "3                       Rally Assets           2012-01-10     2015-12-30   \n",
       "4                 Flow Office Wisdom           2015-07-02     2017-07-25   \n",
       "..                               ...                  ...            ...   \n",
       "77                   TACK10 Strategy           2017-10-25     2017-10-25   \n",
       "78            GlobeScan Incorporated           2017-08-30     2017-08-30   \n",
       "79                        Summerhill           2013-07-17     2017-10-30   \n",
       "80                    The Raw Office           2016-02-16     2016-02-16   \n",
       "81  Neighbourhood Group of Companies           2016-03-14     2016-03-14   \n",
       "\n",
       "   current_status                                        description  \\\n",
       "0       certified  Founded by engineers to support the needs of t...   \n",
       "1       certified  Oliberté is a Canadian premium leather goods c...   \n",
       "2       certified  AccertaClaim Servicorp Inc.'s focus and expert...   \n",
       "3       certified  Rally Assets (formerly Purpose Capital) is a f...   \n",
       "4       certified  Supporting a movement. Changing the world one ...   \n",
       "..            ...                                                ...   \n",
       "77      certified  Manifesto\\n\\nTACK10 is an award-winning profes...   \n",
       "78      certified  GlobeScan is a world leader in identifying, un...   \n",
       "79      certified  Summerhill is a leading Energy Efficiency and ...   \n",
       "80      certified  Raw Office saves businesses an average of 20% ...   \n",
       "81      certified  The Neighbourhood Group of Companies operates ...   \n",
       "\n",
       "                               industry                 industry_category  \\\n",
       "0            HR Consulting & Recruiting      Business Products & Services   \n",
       "1       Apparel, Footwear & Accessories      Consumer Products & Services   \n",
       "2                      Health Insurance           Health & Human Services   \n",
       "3                                 Other                Financial Services   \n",
       "4                                 Other      Business Products & Services   \n",
       "..                                  ...                               ...   \n",
       "77  Marketing & Communications Services      Business Products & Services   \n",
       "78                    Research & Design      Business Products & Services   \n",
       "79                                Other   Energy & Environmental Services   \n",
       "80           Office Products & Printing      Business Products & Services   \n",
       "81                           Restaurant  Restaurant, Hospitality & Travel   \n",
       "\n",
       "                                products_and_services country    state  ...  \\\n",
       "0          Technical Recruiting and Hiring Technology  Canada  Ontario  ...   \n",
       "1                                      Footwear, Bags  Canada  Ontario  ...   \n",
       "2                           Claims Benefit Management  Canada  Ontario  ...   \n",
       "3                          Impact Investment Advisory  Canada  Ontario  ...   \n",
       "4                    Business Administration Services  Canada  Ontario  ...   \n",
       "..                                                ...     ...      ...  ...   \n",
       "77             Award Winning Professional Consultancy  Canada  Ontario  ...   \n",
       "78                     Research and advisory services  Canada  Ontario  ...   \n",
       "79  Energy Efficiency program design and implement...  Canada  Ontario  ...   \n",
       "80  Business procurement supplies for the office, ...  Canada  Ontario  ...   \n",
       "81                 Locally Crafted Food and Beverages  Canada  Ontario  ...   \n",
       "\n",
       "   impact_area_customers impact_area_environment impact_area_governance  \\\n",
       "0                    0.4                    10.4                   22.4   \n",
       "1                    0.0                    17.0                   15.5   \n",
       "2                   27.7                     6.8                   13.3   \n",
       "3                   28.6                     8.4                   16.3   \n",
       "4                    6.8                     1.2                   13.3   \n",
       "..                   ...                     ...                    ...   \n",
       "77                  15.4                     6.7                   13.7   \n",
       "78                  16.2                     7.3                   12.0   \n",
       "79                   0.0                    28.4                   14.5   \n",
       "80                   0.0                    27.4                    5.8   \n",
       "81                   0.0                    19.4                    7.9   \n",
       "\n",
       "   impact_area_workers                                            geom  \\\n",
       "0                 35.9  {'lat': 43.4665765, 'lng': -79.67689879999999}   \n",
       "1                 17.3          {'lat': 43.467517, 'lng': -79.6876659}   \n",
       "2                 25.4           {'lat': 43.660489, 'lng': -79.384447}   \n",
       "3                 23.1  {'lat': 43.6486763, 'lng': -79.38412760000001}   \n",
       "4                 32.7         {'lat': 43.5292932, 'lng': -80.2559799}   \n",
       "..                 ...                                             ...   \n",
       "77                33.1           {'lat': 43.636831, 'lng': -79.426226}   \n",
       "78                35.0  {'lat': 43.64984010000001, 'lng': -79.3692382}   \n",
       "79                31.6         {'lat': 43.6811436, 'lng': -79.3944199}   \n",
       "80                20.7          {'lat': 43.653226, 'lng': -79.3831843}   \n",
       "81                17.7   {'lat': 43.548023, 'lng': -80.25260240000001}   \n",
       "\n",
       "    specific        lat       long  year_certified  year_first_certified  \n",
       "0          1  43.466577 -79.676899            2016                  2012  \n",
       "1          0  43.467517 -79.687666            2016                  2012  \n",
       "2          1  43.660489 -79.384447            2017                  2017  \n",
       "3          1  43.648676 -79.384128            2015                  2012  \n",
       "4          1  43.529293 -80.255980            2017                  2015  \n",
       "..       ...        ...        ...             ...                   ...  \n",
       "77         1  43.636831 -79.426226            2017                  2017  \n",
       "78         1  43.649840 -79.369238            2017                  2017  \n",
       "79         1  43.681144 -79.394420            2017                  2013  \n",
       "80         0  43.653226 -79.383184            2016                  2016  \n",
       "81         1  43.548023 -80.252602            2016                  2016  \n",
       "\n",
       "[82 rows x 28 columns]"
      ]
     },
     "execution_count": 16,
     "metadata": {},
     "output_type": "execute_result"
    }
   ],
   "source": [
    "new_df = df[df['year_certified'] <= 2017]\n",
    "new_df.drop_duplicates(subset=['company_name'], inplace=True, ignore_index=True)\n",
    "new_df"
   ]
  },
  {
   "cell_type": "code",
   "execution_count": 41,
   "metadata": {},
   "outputs": [],
   "source": [
    "df['date_first_certified'] = pd.to_datetime(df['date_first_certified'])"
   ]
  },
  {
   "cell_type": "code",
   "execution_count": 42,
   "metadata": {},
   "outputs": [
    {
     "data": {
      "text/html": [
       "<div>\n",
       "<style scoped>\n",
       "    .dataframe tbody tr th:only-of-type {\n",
       "        vertical-align: middle;\n",
       "    }\n",
       "\n",
       "    .dataframe tbody tr th {\n",
       "        vertical-align: top;\n",
       "    }\n",
       "\n",
       "    .dataframe thead th {\n",
       "        text-align: right;\n",
       "    }\n",
       "</style>\n",
       "<table border=\"1\" class=\"dataframe\">\n",
       "  <thead>\n",
       "    <tr style=\"text-align: right;\">\n",
       "      <th></th>\n",
       "      <th>company_name</th>\n",
       "      <th>date_first_certified</th>\n",
       "      <th>date_certified</th>\n",
       "      <th>current_status</th>\n",
       "      <th>description</th>\n",
       "      <th>industry</th>\n",
       "      <th>industry_category</th>\n",
       "      <th>products_and_services</th>\n",
       "      <th>country</th>\n",
       "      <th>state</th>\n",
       "      <th>...</th>\n",
       "      <th>impact_area_community</th>\n",
       "      <th>impact_area_customers</th>\n",
       "      <th>impact_area_environment</th>\n",
       "      <th>impact_area_governance</th>\n",
       "      <th>impact_area_workers</th>\n",
       "      <th>geom</th>\n",
       "      <th>specific</th>\n",
       "      <th>lat</th>\n",
       "      <th>long</th>\n",
       "      <th>year_first_certified</th>\n",
       "    </tr>\n",
       "  </thead>\n",
       "  <tbody>\n",
       "    <tr>\n",
       "      <th>0</th>\n",
       "      <td>Vancity Community Investment Bank</td>\n",
       "      <td>2018-02-13</td>\n",
       "      <td>2018-02-13</td>\n",
       "      <td>certified</td>\n",
       "      <td>VCIB is a nationally-focused subsidiary of Van...</td>\n",
       "      <td>Credit Provider</td>\n",
       "      <td>Financial Services</td>\n",
       "      <td>VCIB provides debt financing and advisory serv...</td>\n",
       "      <td>Canada</td>\n",
       "      <td>Ontario</td>\n",
       "      <td>...</td>\n",
       "      <td>18.1</td>\n",
       "      <td>14.1</td>\n",
       "      <td>10.9</td>\n",
       "      <td>11.8</td>\n",
       "      <td>33.3</td>\n",
       "      <td>{'lat': 43.644175, 'lng': -79.4022042}</td>\n",
       "      <td>1</td>\n",
       "      <td>43.644175</td>\n",
       "      <td>-79.402204</td>\n",
       "      <td>2018</td>\n",
       "    </tr>\n",
       "    <tr>\n",
       "      <th>1</th>\n",
       "      <td>PenFinancial Credit Union Limited</td>\n",
       "      <td>2019-01-30</td>\n",
       "      <td>2019-01-30</td>\n",
       "      <td>certified</td>\n",
       "      <td>A truly local Niagara based financial co-opera...</td>\n",
       "      <td>Other</td>\n",
       "      <td>Financial Services</td>\n",
       "      <td>Financial products and services, including wea...</td>\n",
       "      <td>Canada</td>\n",
       "      <td>Ontario</td>\n",
       "      <td>...</td>\n",
       "      <td>36.4</td>\n",
       "      <td>13.2</td>\n",
       "      <td>2.2</td>\n",
       "      <td>19.6</td>\n",
       "      <td>37.7</td>\n",
       "      <td>{'lat': 43.1556225, 'lng': -79.2729631}</td>\n",
       "      <td>1</td>\n",
       "      <td>43.155622</td>\n",
       "      <td>-79.272963</td>\n",
       "      <td>2019</td>\n",
       "    </tr>\n",
       "    <tr>\n",
       "      <th>2</th>\n",
       "      <td>Ian Martin Group</td>\n",
       "      <td>2012-01-09</td>\n",
       "      <td>2019-03-01</td>\n",
       "      <td>certified</td>\n",
       "      <td>Founded by engineers to support the needs of t...</td>\n",
       "      <td>HR Consulting &amp; Recruiting</td>\n",
       "      <td>Business Products &amp; Services</td>\n",
       "      <td>Technical Recruiting and Hiring Technology</td>\n",
       "      <td>Canada</td>\n",
       "      <td>Ontario</td>\n",
       "      <td>...</td>\n",
       "      <td>41.8</td>\n",
       "      <td>0.0</td>\n",
       "      <td>11.3</td>\n",
       "      <td>22.0</td>\n",
       "      <td>34.6</td>\n",
       "      <td>{'lat': 43.4665765, 'lng': -79.67689879999999}</td>\n",
       "      <td>1</td>\n",
       "      <td>43.466577</td>\n",
       "      <td>-79.676899</td>\n",
       "      <td>2012</td>\n",
       "    </tr>\n",
       "    <tr>\n",
       "      <th>3</th>\n",
       "      <td>Oliberte Limited</td>\n",
       "      <td>2012-06-20</td>\n",
       "      <td>2020-04-28</td>\n",
       "      <td>certified</td>\n",
       "      <td>Oliberté is a Canadian premium leather goods c...</td>\n",
       "      <td>Apparel, Footwear &amp; Accessories</td>\n",
       "      <td>Consumer Products &amp; Services</td>\n",
       "      <td>Footwear, Bags</td>\n",
       "      <td>Canada</td>\n",
       "      <td>Ontario</td>\n",
       "      <td>...</td>\n",
       "      <td>19.9</td>\n",
       "      <td>3.4</td>\n",
       "      <td>19.1</td>\n",
       "      <td>14.7</td>\n",
       "      <td>23.2</td>\n",
       "      <td>{'lat': 43.4286135, 'lng': -79.7062878}</td>\n",
       "      <td>1</td>\n",
       "      <td>43.428614</td>\n",
       "      <td>-79.706288</td>\n",
       "      <td>2012</td>\n",
       "    </tr>\n",
       "    <tr>\n",
       "      <th>4</th>\n",
       "      <td>Good Food for Good Inc.</td>\n",
       "      <td>2018-06-28</td>\n",
       "      <td>2018-06-28</td>\n",
       "      <td>certified</td>\n",
       "      <td>Good Food For Good is an organic food company ...</td>\n",
       "      <td>Food &amp; Beverage</td>\n",
       "      <td>Consumer Products &amp; Services</td>\n",
       "      <td>Organic Ketchup, BBQ Sauces, Fresh Cooking Sau...</td>\n",
       "      <td>Canada</td>\n",
       "      <td>Ontario</td>\n",
       "      <td>...</td>\n",
       "      <td>42.4</td>\n",
       "      <td>0.0</td>\n",
       "      <td>18.2</td>\n",
       "      <td>7.4</td>\n",
       "      <td>19.9</td>\n",
       "      <td>{'lat': 45.1377, 'lng': -76.1429}</td>\n",
       "      <td>1</td>\n",
       "      <td>45.137700</td>\n",
       "      <td>-76.142900</td>\n",
       "      <td>2018</td>\n",
       "    </tr>\n",
       "    <tr>\n",
       "      <th>...</th>\n",
       "      <td>...</td>\n",
       "      <td>...</td>\n",
       "      <td>...</td>\n",
       "      <td>...</td>\n",
       "      <td>...</td>\n",
       "      <td>...</td>\n",
       "      <td>...</td>\n",
       "      <td>...</td>\n",
       "      <td>...</td>\n",
       "      <td>...</td>\n",
       "      <td>...</td>\n",
       "      <td>...</td>\n",
       "      <td>...</td>\n",
       "      <td>...</td>\n",
       "      <td>...</td>\n",
       "      <td>...</td>\n",
       "      <td>...</td>\n",
       "      <td>...</td>\n",
       "      <td>...</td>\n",
       "      <td>...</td>\n",
       "      <td>...</td>\n",
       "    </tr>\n",
       "    <tr>\n",
       "      <th>114</th>\n",
       "      <td>GlobeScan Incorporated</td>\n",
       "      <td>2017-08-30</td>\n",
       "      <td>2017-08-30</td>\n",
       "      <td>certified</td>\n",
       "      <td>GlobeScan is a world leader in identifying, un...</td>\n",
       "      <td>Research &amp; Design</td>\n",
       "      <td>Business Products &amp; Services</td>\n",
       "      <td>Research and advisory services</td>\n",
       "      <td>Canada</td>\n",
       "      <td>Ontario</td>\n",
       "      <td>...</td>\n",
       "      <td>9.9</td>\n",
       "      <td>16.2</td>\n",
       "      <td>7.3</td>\n",
       "      <td>12.0</td>\n",
       "      <td>35.0</td>\n",
       "      <td>{'lat': 43.64984010000001, 'lng': -79.3692382}</td>\n",
       "      <td>1</td>\n",
       "      <td>43.649840</td>\n",
       "      <td>-79.369238</td>\n",
       "      <td>2017</td>\n",
       "    </tr>\n",
       "    <tr>\n",
       "      <th>115</th>\n",
       "      <td>Summerhill</td>\n",
       "      <td>2013-07-17</td>\n",
       "      <td>2017-10-30</td>\n",
       "      <td>certified</td>\n",
       "      <td>Summerhill is a leading Energy Efficiency and ...</td>\n",
       "      <td>Other</td>\n",
       "      <td>Energy &amp; Environmental Services</td>\n",
       "      <td>Energy Efficiency program design and implement...</td>\n",
       "      <td>Canada</td>\n",
       "      <td>Ontario</td>\n",
       "      <td>...</td>\n",
       "      <td>20.9</td>\n",
       "      <td>0.0</td>\n",
       "      <td>28.4</td>\n",
       "      <td>14.5</td>\n",
       "      <td>31.6</td>\n",
       "      <td>{'lat': 43.6811436, 'lng': -79.3944199}</td>\n",
       "      <td>1</td>\n",
       "      <td>43.681144</td>\n",
       "      <td>-79.394420</td>\n",
       "      <td>2013</td>\n",
       "    </tr>\n",
       "    <tr>\n",
       "      <th>116</th>\n",
       "      <td>The Raw Office</td>\n",
       "      <td>2016-02-16</td>\n",
       "      <td>2018-01-18</td>\n",
       "      <td>certified</td>\n",
       "      <td>Raw Office saves businesses an average of 20% ...</td>\n",
       "      <td>Office Products &amp; Printing</td>\n",
       "      <td>Business Products &amp; Services</td>\n",
       "      <td>Business procurement supplies for the office, ...</td>\n",
       "      <td>Canada</td>\n",
       "      <td>Ontario</td>\n",
       "      <td>...</td>\n",
       "      <td>32.6</td>\n",
       "      <td>0.0</td>\n",
       "      <td>35.0</td>\n",
       "      <td>15.6</td>\n",
       "      <td>23.5</td>\n",
       "      <td>{'lat': 43.653226, 'lng': -79.3831843}</td>\n",
       "      <td>0</td>\n",
       "      <td>43.653226</td>\n",
       "      <td>-79.383184</td>\n",
       "      <td>2016</td>\n",
       "    </tr>\n",
       "    <tr>\n",
       "      <th>117</th>\n",
       "      <td>Neighbourhood Group of Companies</td>\n",
       "      <td>2016-03-14</td>\n",
       "      <td>2018-05-14</td>\n",
       "      <td>certified</td>\n",
       "      <td>The Neighbourhood Group of Companies operates ...</td>\n",
       "      <td>Restaurant</td>\n",
       "      <td>Restaurant, Hospitality &amp; Travel</td>\n",
       "      <td>Locally Crafted Food and Beverages</td>\n",
       "      <td>Canada</td>\n",
       "      <td>Ontario</td>\n",
       "      <td>...</td>\n",
       "      <td>47.9</td>\n",
       "      <td>0.0</td>\n",
       "      <td>18.9</td>\n",
       "      <td>13.2</td>\n",
       "      <td>18.6</td>\n",
       "      <td>{'lat': 43.548023, 'lng': -80.25260240000001}</td>\n",
       "      <td>1</td>\n",
       "      <td>43.548023</td>\n",
       "      <td>-80.252602</td>\n",
       "      <td>2016</td>\n",
       "    </tr>\n",
       "    <tr>\n",
       "      <th>118</th>\n",
       "      <td>Barriston LLP</td>\n",
       "      <td>2019-08-02</td>\n",
       "      <td>2019-08-02</td>\n",
       "      <td>certified</td>\n",
       "      <td>Barriston Law is a full service law firm in Ce...</td>\n",
       "      <td>Legal</td>\n",
       "      <td>Legal Services</td>\n",
       "      <td>Legal Services</td>\n",
       "      <td>Canada</td>\n",
       "      <td>Ontario</td>\n",
       "      <td>...</td>\n",
       "      <td>34.4</td>\n",
       "      <td>2.9</td>\n",
       "      <td>6.4</td>\n",
       "      <td>7.6</td>\n",
       "      <td>33.8</td>\n",
       "      <td>{'lat': 44.407875, 'lng': -79.690113}</td>\n",
       "      <td>1</td>\n",
       "      <td>44.407875</td>\n",
       "      <td>-79.690113</td>\n",
       "      <td>2019</td>\n",
       "    </tr>\n",
       "  </tbody>\n",
       "</table>\n",
       "<p>119 rows × 27 columns</p>\n",
       "</div>"
      ],
      "text/plain": [
       "                          company_name date_first_certified date_certified  \\\n",
       "0    Vancity Community Investment Bank           2018-02-13     2018-02-13   \n",
       "1    PenFinancial Credit Union Limited           2019-01-30     2019-01-30   \n",
       "2                     Ian Martin Group           2012-01-09     2019-03-01   \n",
       "3                     Oliberte Limited           2012-06-20     2020-04-28   \n",
       "4              Good Food for Good Inc.           2018-06-28     2018-06-28   \n",
       "..                                 ...                  ...            ...   \n",
       "114             GlobeScan Incorporated           2017-08-30     2017-08-30   \n",
       "115                         Summerhill           2013-07-17     2017-10-30   \n",
       "116                     The Raw Office           2016-02-16     2018-01-18   \n",
       "117   Neighbourhood Group of Companies           2016-03-14     2018-05-14   \n",
       "118                      Barriston LLP           2019-08-02     2019-08-02   \n",
       "\n",
       "    current_status                                        description  \\\n",
       "0        certified  VCIB is a nationally-focused subsidiary of Van...   \n",
       "1        certified  A truly local Niagara based financial co-opera...   \n",
       "2        certified  Founded by engineers to support the needs of t...   \n",
       "3        certified  Oliberté is a Canadian premium leather goods c...   \n",
       "4        certified  Good Food For Good is an organic food company ...   \n",
       "..             ...                                                ...   \n",
       "114      certified  GlobeScan is a world leader in identifying, un...   \n",
       "115      certified  Summerhill is a leading Energy Efficiency and ...   \n",
       "116      certified  Raw Office saves businesses an average of 20% ...   \n",
       "117      certified  The Neighbourhood Group of Companies operates ...   \n",
       "118      certified  Barriston Law is a full service law firm in Ce...   \n",
       "\n",
       "                            industry                 industry_category  \\\n",
       "0                    Credit Provider                Financial Services   \n",
       "1                              Other                Financial Services   \n",
       "2         HR Consulting & Recruiting      Business Products & Services   \n",
       "3    Apparel, Footwear & Accessories      Consumer Products & Services   \n",
       "4                    Food & Beverage      Consumer Products & Services   \n",
       "..                               ...                               ...   \n",
       "114                Research & Design      Business Products & Services   \n",
       "115                            Other   Energy & Environmental Services   \n",
       "116       Office Products & Printing      Business Products & Services   \n",
       "117                       Restaurant  Restaurant, Hospitality & Travel   \n",
       "118                            Legal                    Legal Services   \n",
       "\n",
       "                                 products_and_services country    state  ...  \\\n",
       "0    VCIB provides debt financing and advisory serv...  Canada  Ontario  ...   \n",
       "1    Financial products and services, including wea...  Canada  Ontario  ...   \n",
       "2           Technical Recruiting and Hiring Technology  Canada  Ontario  ...   \n",
       "3                                       Footwear, Bags  Canada  Ontario  ...   \n",
       "4    Organic Ketchup, BBQ Sauces, Fresh Cooking Sau...  Canada  Ontario  ...   \n",
       "..                                                 ...     ...      ...  ...   \n",
       "114                     Research and advisory services  Canada  Ontario  ...   \n",
       "115  Energy Efficiency program design and implement...  Canada  Ontario  ...   \n",
       "116  Business procurement supplies for the office, ...  Canada  Ontario  ...   \n",
       "117                 Locally Crafted Food and Beverages  Canada  Ontario  ...   \n",
       "118                                     Legal Services  Canada  Ontario  ...   \n",
       "\n",
       "    impact_area_community impact_area_customers impact_area_environment  \\\n",
       "0                    18.1                  14.1                    10.9   \n",
       "1                    36.4                  13.2                     2.2   \n",
       "2                    41.8                   0.0                    11.3   \n",
       "3                    19.9                   3.4                    19.1   \n",
       "4                    42.4                   0.0                    18.2   \n",
       "..                    ...                   ...                     ...   \n",
       "114                   9.9                  16.2                     7.3   \n",
       "115                  20.9                   0.0                    28.4   \n",
       "116                  32.6                   0.0                    35.0   \n",
       "117                  47.9                   0.0                    18.9   \n",
       "118                  34.4                   2.9                     6.4   \n",
       "\n",
       "    impact_area_governance impact_area_workers  \\\n",
       "0                     11.8                33.3   \n",
       "1                     19.6                37.7   \n",
       "2                     22.0                34.6   \n",
       "3                     14.7                23.2   \n",
       "4                      7.4                19.9   \n",
       "..                     ...                 ...   \n",
       "114                   12.0                35.0   \n",
       "115                   14.5                31.6   \n",
       "116                   15.6                23.5   \n",
       "117                   13.2                18.6   \n",
       "118                    7.6                33.8   \n",
       "\n",
       "                                               geom  specific        lat  \\\n",
       "0            {'lat': 43.644175, 'lng': -79.4022042}         1  43.644175   \n",
       "1           {'lat': 43.1556225, 'lng': -79.2729631}         1  43.155622   \n",
       "2    {'lat': 43.4665765, 'lng': -79.67689879999999}         1  43.466577   \n",
       "3           {'lat': 43.4286135, 'lng': -79.7062878}         1  43.428614   \n",
       "4                 {'lat': 45.1377, 'lng': -76.1429}         1  45.137700   \n",
       "..                                              ...       ...        ...   \n",
       "114  {'lat': 43.64984010000001, 'lng': -79.3692382}         1  43.649840   \n",
       "115         {'lat': 43.6811436, 'lng': -79.3944199}         1  43.681144   \n",
       "116          {'lat': 43.653226, 'lng': -79.3831843}         0  43.653226   \n",
       "117   {'lat': 43.548023, 'lng': -80.25260240000001}         1  43.548023   \n",
       "118           {'lat': 44.407875, 'lng': -79.690113}         1  44.407875   \n",
       "\n",
       "          long  year_first_certified  \n",
       "0   -79.402204                  2018  \n",
       "1   -79.272963                  2019  \n",
       "2   -79.676899                  2012  \n",
       "3   -79.706288                  2012  \n",
       "4   -76.142900                  2018  \n",
       "..         ...                   ...  \n",
       "114 -79.369238                  2017  \n",
       "115 -79.394420                  2013  \n",
       "116 -79.383184                  2016  \n",
       "117 -80.252602                  2016  \n",
       "118 -79.690113                  2019  \n",
       "\n",
       "[119 rows x 27 columns]"
      ]
     },
     "execution_count": 42,
     "metadata": {},
     "output_type": "execute_result"
    }
   ],
   "source": [
    "df['year_first_certified'] = df['date_first_certified'].dt.year\n",
    "\n",
    "# Save dataframe to CSV file\n",
    "df.to_csv('../data/mapped_ont_bcorps.csv', index=False)\n",
    "\n",
    "df"
   ]
  },
  {
   "cell_type": "code",
   "execution_count": 22,
   "metadata": {},
   "outputs": [
    {
     "data": {
      "text/plain": [
       "year_first_certified\n",
       "2009     1\n",
       "2011     6\n",
       "2012    12\n",
       "2013    14\n",
       "2014     7\n",
       "2015     8\n",
       "2016    10\n",
       "2017    24\n",
       "2018    15\n",
       "2019    20\n",
       "2020     2\n",
       "Name: company_name, dtype: int64"
      ]
     },
     "execution_count": 22,
     "metadata": {},
     "output_type": "execute_result"
    }
   ],
   "source": [
    "counts = df.groupby(['year_first_certified'])['company_name'].count()\n",
    "counts"
   ]
  },
  {
   "cell_type": "code",
   "execution_count": 31,
   "metadata": {},
   "outputs": [
    {
     "data": {
      "text/plain": [
       "year_first_certified\n",
       "2009      1\n",
       "2011      7\n",
       "2012     19\n",
       "2013     33\n",
       "2014     40\n",
       "2015     48\n",
       "2016     58\n",
       "2017     82\n",
       "2018     97\n",
       "2019    117\n",
       "2020    119\n",
       "Name: company_name, dtype: int64"
      ]
     },
     "execution_count": 31,
     "metadata": {},
     "output_type": "execute_result"
    }
   ],
   "source": [
    "counts.cumsum()"
   ]
  },
  {
   "cell_type": "code",
   "execution_count": 35,
   "metadata": {},
   "outputs": [
    {
     "data": {
      "application/vnd.plotly.v1+json": {
       "config": {
        "plotlyServerURL": "https://plot.ly"
       },
       "data": [
        {
         "hovertemplate": "%{x}: %{y}<extra></extra>",
         "marker": {
          "color": "#19B1BA"
         },
         "orientation": "h",
         "type": "scatter",
         "x": [
          2009,
          2011,
          2012,
          2013,
          2014,
          2015,
          2016,
          2017,
          2018,
          2019,
          2020
         ],
         "y": [
          1,
          7,
          19,
          33,
          40,
          48,
          58,
          82,
          97,
          117,
          119
         ]
        }
       ],
       "layout": {
        "autosize": true,
        "margin": {
         "b": 10,
         "l": 10,
         "r": 10,
         "t": 10
        },
        "template": {
         "data": {
          "bar": [
           {
            "error_x": {
             "color": "rgb(36,36,36)"
            },
            "error_y": {
             "color": "rgb(36,36,36)"
            },
            "marker": {
             "line": {
              "color": "white",
              "width": 0.5
             }
            },
            "type": "bar"
           }
          ],
          "barpolar": [
           {
            "marker": {
             "line": {
              "color": "white",
              "width": 0.5
             }
            },
            "type": "barpolar"
           }
          ],
          "carpet": [
           {
            "aaxis": {
             "endlinecolor": "rgb(36,36,36)",
             "gridcolor": "white",
             "linecolor": "white",
             "minorgridcolor": "white",
             "startlinecolor": "rgb(36,36,36)"
            },
            "baxis": {
             "endlinecolor": "rgb(36,36,36)",
             "gridcolor": "white",
             "linecolor": "white",
             "minorgridcolor": "white",
             "startlinecolor": "rgb(36,36,36)"
            },
            "type": "carpet"
           }
          ],
          "choropleth": [
           {
            "colorbar": {
             "outlinewidth": 1,
             "tickcolor": "rgb(36,36,36)",
             "ticks": "outside"
            },
            "type": "choropleth"
           }
          ],
          "contour": [
           {
            "colorbar": {
             "outlinewidth": 1,
             "tickcolor": "rgb(36,36,36)",
             "ticks": "outside"
            },
            "colorscale": [
             [
              0,
              "#440154"
             ],
             [
              0.1111111111111111,
              "#482878"
             ],
             [
              0.2222222222222222,
              "#3e4989"
             ],
             [
              0.3333333333333333,
              "#31688e"
             ],
             [
              0.4444444444444444,
              "#26828e"
             ],
             [
              0.5555555555555556,
              "#1f9e89"
             ],
             [
              0.6666666666666666,
              "#35b779"
             ],
             [
              0.7777777777777778,
              "#6ece58"
             ],
             [
              0.8888888888888888,
              "#b5de2b"
             ],
             [
              1,
              "#fde725"
             ]
            ],
            "type": "contour"
           }
          ],
          "contourcarpet": [
           {
            "colorbar": {
             "outlinewidth": 1,
             "tickcolor": "rgb(36,36,36)",
             "ticks": "outside"
            },
            "type": "contourcarpet"
           }
          ],
          "heatmap": [
           {
            "colorbar": {
             "outlinewidth": 1,
             "tickcolor": "rgb(36,36,36)",
             "ticks": "outside"
            },
            "colorscale": [
             [
              0,
              "#440154"
             ],
             [
              0.1111111111111111,
              "#482878"
             ],
             [
              0.2222222222222222,
              "#3e4989"
             ],
             [
              0.3333333333333333,
              "#31688e"
             ],
             [
              0.4444444444444444,
              "#26828e"
             ],
             [
              0.5555555555555556,
              "#1f9e89"
             ],
             [
              0.6666666666666666,
              "#35b779"
             ],
             [
              0.7777777777777778,
              "#6ece58"
             ],
             [
              0.8888888888888888,
              "#b5de2b"
             ],
             [
              1,
              "#fde725"
             ]
            ],
            "type": "heatmap"
           }
          ],
          "heatmapgl": [
           {
            "colorbar": {
             "outlinewidth": 1,
             "tickcolor": "rgb(36,36,36)",
             "ticks": "outside"
            },
            "colorscale": [
             [
              0,
              "#440154"
             ],
             [
              0.1111111111111111,
              "#482878"
             ],
             [
              0.2222222222222222,
              "#3e4989"
             ],
             [
              0.3333333333333333,
              "#31688e"
             ],
             [
              0.4444444444444444,
              "#26828e"
             ],
             [
              0.5555555555555556,
              "#1f9e89"
             ],
             [
              0.6666666666666666,
              "#35b779"
             ],
             [
              0.7777777777777778,
              "#6ece58"
             ],
             [
              0.8888888888888888,
              "#b5de2b"
             ],
             [
              1,
              "#fde725"
             ]
            ],
            "type": "heatmapgl"
           }
          ],
          "histogram": [
           {
            "marker": {
             "line": {
              "color": "white",
              "width": 0.6
             }
            },
            "type": "histogram"
           }
          ],
          "histogram2d": [
           {
            "colorbar": {
             "outlinewidth": 1,
             "tickcolor": "rgb(36,36,36)",
             "ticks": "outside"
            },
            "colorscale": [
             [
              0,
              "#440154"
             ],
             [
              0.1111111111111111,
              "#482878"
             ],
             [
              0.2222222222222222,
              "#3e4989"
             ],
             [
              0.3333333333333333,
              "#31688e"
             ],
             [
              0.4444444444444444,
              "#26828e"
             ],
             [
              0.5555555555555556,
              "#1f9e89"
             ],
             [
              0.6666666666666666,
              "#35b779"
             ],
             [
              0.7777777777777778,
              "#6ece58"
             ],
             [
              0.8888888888888888,
              "#b5de2b"
             ],
             [
              1,
              "#fde725"
             ]
            ],
            "type": "histogram2d"
           }
          ],
          "histogram2dcontour": [
           {
            "colorbar": {
             "outlinewidth": 1,
             "tickcolor": "rgb(36,36,36)",
             "ticks": "outside"
            },
            "colorscale": [
             [
              0,
              "#440154"
             ],
             [
              0.1111111111111111,
              "#482878"
             ],
             [
              0.2222222222222222,
              "#3e4989"
             ],
             [
              0.3333333333333333,
              "#31688e"
             ],
             [
              0.4444444444444444,
              "#26828e"
             ],
             [
              0.5555555555555556,
              "#1f9e89"
             ],
             [
              0.6666666666666666,
              "#35b779"
             ],
             [
              0.7777777777777778,
              "#6ece58"
             ],
             [
              0.8888888888888888,
              "#b5de2b"
             ],
             [
              1,
              "#fde725"
             ]
            ],
            "type": "histogram2dcontour"
           }
          ],
          "mesh3d": [
           {
            "colorbar": {
             "outlinewidth": 1,
             "tickcolor": "rgb(36,36,36)",
             "ticks": "outside"
            },
            "type": "mesh3d"
           }
          ],
          "parcoords": [
           {
            "line": {
             "colorbar": {
              "outlinewidth": 1,
              "tickcolor": "rgb(36,36,36)",
              "ticks": "outside"
             }
            },
            "type": "parcoords"
           }
          ],
          "pie": [
           {
            "automargin": true,
            "type": "pie"
           }
          ],
          "scatter": [
           {
            "marker": {
             "colorbar": {
              "outlinewidth": 1,
              "tickcolor": "rgb(36,36,36)",
              "ticks": "outside"
             }
            },
            "type": "scatter"
           }
          ],
          "scatter3d": [
           {
            "line": {
             "colorbar": {
              "outlinewidth": 1,
              "tickcolor": "rgb(36,36,36)",
              "ticks": "outside"
             }
            },
            "marker": {
             "colorbar": {
              "outlinewidth": 1,
              "tickcolor": "rgb(36,36,36)",
              "ticks": "outside"
             }
            },
            "type": "scatter3d"
           }
          ],
          "scattercarpet": [
           {
            "marker": {
             "colorbar": {
              "outlinewidth": 1,
              "tickcolor": "rgb(36,36,36)",
              "ticks": "outside"
             }
            },
            "type": "scattercarpet"
           }
          ],
          "scattergeo": [
           {
            "marker": {
             "colorbar": {
              "outlinewidth": 1,
              "tickcolor": "rgb(36,36,36)",
              "ticks": "outside"
             }
            },
            "type": "scattergeo"
           }
          ],
          "scattergl": [
           {
            "marker": {
             "colorbar": {
              "outlinewidth": 1,
              "tickcolor": "rgb(36,36,36)",
              "ticks": "outside"
             }
            },
            "type": "scattergl"
           }
          ],
          "scattermapbox": [
           {
            "marker": {
             "colorbar": {
              "outlinewidth": 1,
              "tickcolor": "rgb(36,36,36)",
              "ticks": "outside"
             }
            },
            "type": "scattermapbox"
           }
          ],
          "scatterpolar": [
           {
            "marker": {
             "colorbar": {
              "outlinewidth": 1,
              "tickcolor": "rgb(36,36,36)",
              "ticks": "outside"
             }
            },
            "type": "scatterpolar"
           }
          ],
          "scatterpolargl": [
           {
            "marker": {
             "colorbar": {
              "outlinewidth": 1,
              "tickcolor": "rgb(36,36,36)",
              "ticks": "outside"
             }
            },
            "type": "scatterpolargl"
           }
          ],
          "scatterternary": [
           {
            "marker": {
             "colorbar": {
              "outlinewidth": 1,
              "tickcolor": "rgb(36,36,36)",
              "ticks": "outside"
             }
            },
            "type": "scatterternary"
           }
          ],
          "surface": [
           {
            "colorbar": {
             "outlinewidth": 1,
             "tickcolor": "rgb(36,36,36)",
             "ticks": "outside"
            },
            "colorscale": [
             [
              0,
              "#440154"
             ],
             [
              0.1111111111111111,
              "#482878"
             ],
             [
              0.2222222222222222,
              "#3e4989"
             ],
             [
              0.3333333333333333,
              "#31688e"
             ],
             [
              0.4444444444444444,
              "#26828e"
             ],
             [
              0.5555555555555556,
              "#1f9e89"
             ],
             [
              0.6666666666666666,
              "#35b779"
             ],
             [
              0.7777777777777778,
              "#6ece58"
             ],
             [
              0.8888888888888888,
              "#b5de2b"
             ],
             [
              1,
              "#fde725"
             ]
            ],
            "type": "surface"
           }
          ],
          "table": [
           {
            "cells": {
             "fill": {
              "color": "rgb(237,237,237)"
             },
             "line": {
              "color": "white"
             }
            },
            "header": {
             "fill": {
              "color": "rgb(217,217,217)"
             },
             "line": {
              "color": "white"
             }
            },
            "type": "table"
           }
          ]
         },
         "layout": {
          "annotationdefaults": {
           "arrowhead": 0,
           "arrowwidth": 1
          },
          "coloraxis": {
           "colorbar": {
            "outlinewidth": 1,
            "tickcolor": "rgb(36,36,36)",
            "ticks": "outside"
           }
          },
          "colorscale": {
           "diverging": [
            [
             0,
             "rgb(103,0,31)"
            ],
            [
             0.1,
             "rgb(178,24,43)"
            ],
            [
             0.2,
             "rgb(214,96,77)"
            ],
            [
             0.3,
             "rgb(244,165,130)"
            ],
            [
             0.4,
             "rgb(253,219,199)"
            ],
            [
             0.5,
             "rgb(247,247,247)"
            ],
            [
             0.6,
             "rgb(209,229,240)"
            ],
            [
             0.7,
             "rgb(146,197,222)"
            ],
            [
             0.8,
             "rgb(67,147,195)"
            ],
            [
             0.9,
             "rgb(33,102,172)"
            ],
            [
             1,
             "rgb(5,48,97)"
            ]
           ],
           "sequential": [
            [
             0,
             "#440154"
            ],
            [
             0.1111111111111111,
             "#482878"
            ],
            [
             0.2222222222222222,
             "#3e4989"
            ],
            [
             0.3333333333333333,
             "#31688e"
            ],
            [
             0.4444444444444444,
             "#26828e"
            ],
            [
             0.5555555555555556,
             "#1f9e89"
            ],
            [
             0.6666666666666666,
             "#35b779"
            ],
            [
             0.7777777777777778,
             "#6ece58"
            ],
            [
             0.8888888888888888,
             "#b5de2b"
            ],
            [
             1,
             "#fde725"
            ]
           ],
           "sequentialminus": [
            [
             0,
             "#440154"
            ],
            [
             0.1111111111111111,
             "#482878"
            ],
            [
             0.2222222222222222,
             "#3e4989"
            ],
            [
             0.3333333333333333,
             "#31688e"
            ],
            [
             0.4444444444444444,
             "#26828e"
            ],
            [
             0.5555555555555556,
             "#1f9e89"
            ],
            [
             0.6666666666666666,
             "#35b779"
            ],
            [
             0.7777777777777778,
             "#6ece58"
            ],
            [
             0.8888888888888888,
             "#b5de2b"
            ],
            [
             1,
             "#fde725"
            ]
           ]
          },
          "colorway": [
           "#1F77B4",
           "#FF7F0E",
           "#2CA02C",
           "#D62728",
           "#9467BD",
           "#8C564B",
           "#E377C2",
           "#7F7F7F",
           "#BCBD22",
           "#17BECF"
          ],
          "font": {
           "color": "rgb(36,36,36)"
          },
          "geo": {
           "bgcolor": "white",
           "lakecolor": "white",
           "landcolor": "white",
           "showlakes": true,
           "showland": true,
           "subunitcolor": "white"
          },
          "hoverlabel": {
           "align": "left"
          },
          "hovermode": "closest",
          "mapbox": {
           "style": "light"
          },
          "paper_bgcolor": "white",
          "plot_bgcolor": "white",
          "polar": {
           "angularaxis": {
            "gridcolor": "rgb(232,232,232)",
            "linecolor": "rgb(36,36,36)",
            "showgrid": false,
            "showline": true,
            "ticks": "outside"
           },
           "bgcolor": "white",
           "radialaxis": {
            "gridcolor": "rgb(232,232,232)",
            "linecolor": "rgb(36,36,36)",
            "showgrid": false,
            "showline": true,
            "ticks": "outside"
           }
          },
          "scene": {
           "xaxis": {
            "backgroundcolor": "white",
            "gridcolor": "rgb(232,232,232)",
            "gridwidth": 2,
            "linecolor": "rgb(36,36,36)",
            "showbackground": true,
            "showgrid": false,
            "showline": true,
            "ticks": "outside",
            "zeroline": false,
            "zerolinecolor": "rgb(36,36,36)"
           },
           "yaxis": {
            "backgroundcolor": "white",
            "gridcolor": "rgb(232,232,232)",
            "gridwidth": 2,
            "linecolor": "rgb(36,36,36)",
            "showbackground": true,
            "showgrid": false,
            "showline": true,
            "ticks": "outside",
            "zeroline": false,
            "zerolinecolor": "rgb(36,36,36)"
           },
           "zaxis": {
            "backgroundcolor": "white",
            "gridcolor": "rgb(232,232,232)",
            "gridwidth": 2,
            "linecolor": "rgb(36,36,36)",
            "showbackground": true,
            "showgrid": false,
            "showline": true,
            "ticks": "outside",
            "zeroline": false,
            "zerolinecolor": "rgb(36,36,36)"
           }
          },
          "shapedefaults": {
           "fillcolor": "black",
           "line": {
            "width": 0
           },
           "opacity": 0.3
          },
          "ternary": {
           "aaxis": {
            "gridcolor": "rgb(232,232,232)",
            "linecolor": "rgb(36,36,36)",
            "showgrid": false,
            "showline": true,
            "ticks": "outside"
           },
           "baxis": {
            "gridcolor": "rgb(232,232,232)",
            "linecolor": "rgb(36,36,36)",
            "showgrid": false,
            "showline": true,
            "ticks": "outside"
           },
           "bgcolor": "white",
           "caxis": {
            "gridcolor": "rgb(232,232,232)",
            "linecolor": "rgb(36,36,36)",
            "showgrid": false,
            "showline": true,
            "ticks": "outside"
           }
          },
          "title": {
           "x": 0.05
          },
          "xaxis": {
           "automargin": true,
           "gridcolor": "rgb(232,232,232)",
           "linecolor": "rgb(36,36,36)",
           "showgrid": false,
           "showline": true,
           "ticks": "outside",
           "title": {
            "standoff": 15
           },
           "zeroline": false,
           "zerolinecolor": "rgb(36,36,36)"
          },
          "yaxis": {
           "automargin": true,
           "gridcolor": "rgb(232,232,232)",
           "linecolor": "rgb(36,36,36)",
           "showgrid": false,
           "showline": true,
           "ticks": "outside",
           "title": {
            "standoff": 15
           },
           "zeroline": false,
           "zerolinecolor": "rgb(36,36,36)"
          }
         }
        },
        "xaxis": {
         "autorange": true,
         "range": [
          2008.3480719565412,
          2020.6519280434588
         ],
         "title": {
          "text": "Year"
         },
         "type": "linear"
        },
        "yaxis": {
         "autorange": true,
         "range": [
          -7.488207547169813,
          127.48820754716981
         ],
         "title": {
          "text": "Number of Certified B Corporations"
         },
         "type": "linear"
        }
       }
      },
      "image/png": "[encoded data removed]",
      "text/html": [
       "<div>\n",
       "        \n",
       "        \n",
       "            <div id=\"21176967-973c-41f4-8818-af5fc5307d5c\" class=\"plotly-graph-div\" style=\"height:350px; width:100%;\"></div>\n",
       "            <script type=\"text/javascript\">\n",
       "                require([\"plotly\"], function(Plotly) {\n",
       "                    window.PLOTLYENV=window.PLOTLYENV || {};\n",
       "                    \n",
       "                if (document.getElementById(\"21176967-973c-41f4-8818-af5fc5307d5c\")) {\n",
       "                    Plotly.newPlot(\n",
       "                        '21176967-973c-41f4-8818-af5fc5307d5c',\n",
       "                        [{\"hovertemplate\": \"%{x}: %{y}<extra></extra>\", \"marker\": {\"color\": \"#19B1BA\"}, \"orientation\": \"h\", \"type\": \"scatter\", \"x\": [2009, 2011, 2012, 2013, 2014, 2015, 2016, 2017, 2018, 2019, 2020], \"y\": [1, 7, 19, 33, 40, 48, 58, 82, 97, 117, 119]}],\n",
       "                        {\"height\": 350, \"margin\": {\"b\": 10, \"l\": 10, \"r\": 10, \"t\": 10}, \"template\": {\"data\": {\"bar\": [{\"error_x\": {\"color\": \"rgb(36,36,36)\"}, \"error_y\": {\"color\": \"rgb(36,36,36)\"}, \"marker\": {\"line\": {\"color\": \"white\", \"width\": 0.5}}, \"type\": \"bar\"}], \"barpolar\": [{\"marker\": {\"line\": {\"color\": \"white\", \"width\": 0.5}}, \"type\": \"barpolar\"}], \"carpet\": [{\"aaxis\": {\"endlinecolor\": \"rgb(36,36,36)\", \"gridcolor\": \"white\", \"linecolor\": \"white\", \"minorgridcolor\": \"white\", \"startlinecolor\": \"rgb(36,36,36)\"}, \"baxis\": {\"endlinecolor\": \"rgb(36,36,36)\", \"gridcolor\": \"white\", \"linecolor\": \"white\", \"minorgridcolor\": \"white\", \"startlinecolor\": \"rgb(36,36,36)\"}, \"type\": \"carpet\"}], \"choropleth\": [{\"colorbar\": {\"outlinewidth\": 1, \"tickcolor\": \"rgb(36,36,36)\", \"ticks\": \"outside\"}, \"type\": \"choropleth\"}], \"contour\": [{\"colorbar\": {\"outlinewidth\": 1, \"tickcolor\": \"rgb(36,36,36)\", \"ticks\": \"outside\"}, \"colorscale\": [[0.0, \"#440154\"], [0.1111111111111111, \"#482878\"], [0.2222222222222222, \"#3e4989\"], [0.3333333333333333, \"#31688e\"], [0.4444444444444444, \"#26828e\"], [0.5555555555555556, \"#1f9e89\"], [0.6666666666666666, \"#35b779\"], [0.7777777777777778, \"#6ece58\"], [0.8888888888888888, \"#b5de2b\"], [1.0, \"#fde725\"]], \"type\": \"contour\"}], \"contourcarpet\": [{\"colorbar\": {\"outlinewidth\": 1, \"tickcolor\": \"rgb(36,36,36)\", \"ticks\": \"outside\"}, \"type\": \"contourcarpet\"}], \"heatmap\": [{\"colorbar\": {\"outlinewidth\": 1, \"tickcolor\": \"rgb(36,36,36)\", \"ticks\": \"outside\"}, \"colorscale\": [[0.0, \"#440154\"], [0.1111111111111111, \"#482878\"], [0.2222222222222222, \"#3e4989\"], [0.3333333333333333, \"#31688e\"], [0.4444444444444444, \"#26828e\"], [0.5555555555555556, \"#1f9e89\"], [0.6666666666666666, \"#35b779\"], [0.7777777777777778, \"#6ece58\"], [0.8888888888888888, \"#b5de2b\"], [1.0, \"#fde725\"]], \"type\": \"heatmap\"}], \"heatmapgl\": [{\"colorbar\": {\"outlinewidth\": 1, \"tickcolor\": \"rgb(36,36,36)\", \"ticks\": \"outside\"}, \"colorscale\": [[0.0, \"#440154\"], [0.1111111111111111, \"#482878\"], [0.2222222222222222, \"#3e4989\"], [0.3333333333333333, \"#31688e\"], [0.4444444444444444, \"#26828e\"], [0.5555555555555556, \"#1f9e89\"], [0.6666666666666666, \"#35b779\"], [0.7777777777777778, \"#6ece58\"], [0.8888888888888888, \"#b5de2b\"], [1.0, \"#fde725\"]], \"type\": \"heatmapgl\"}], \"histogram\": [{\"marker\": {\"line\": {\"color\": \"white\", \"width\": 0.6}}, \"type\": \"histogram\"}], \"histogram2d\": [{\"colorbar\": {\"outlinewidth\": 1, \"tickcolor\": \"rgb(36,36,36)\", \"ticks\": \"outside\"}, \"colorscale\": [[0.0, \"#440154\"], [0.1111111111111111, \"#482878\"], [0.2222222222222222, \"#3e4989\"], [0.3333333333333333, \"#31688e\"], [0.4444444444444444, \"#26828e\"], [0.5555555555555556, \"#1f9e89\"], [0.6666666666666666, \"#35b779\"], [0.7777777777777778, \"#6ece58\"], [0.8888888888888888, \"#b5de2b\"], [1.0, \"#fde725\"]], \"type\": \"histogram2d\"}], \"histogram2dcontour\": [{\"colorbar\": {\"outlinewidth\": 1, \"tickcolor\": \"rgb(36,36,36)\", \"ticks\": \"outside\"}, \"colorscale\": [[0.0, \"#440154\"], [0.1111111111111111, \"#482878\"], [0.2222222222222222, \"#3e4989\"], [0.3333333333333333, \"#31688e\"], [0.4444444444444444, \"#26828e\"], [0.5555555555555556, \"#1f9e89\"], [0.6666666666666666, \"#35b779\"], [0.7777777777777778, \"#6ece58\"], [0.8888888888888888, \"#b5de2b\"], [1.0, \"#fde725\"]], \"type\": \"histogram2dcontour\"}], \"mesh3d\": [{\"colorbar\": {\"outlinewidth\": 1, \"tickcolor\": \"rgb(36,36,36)\", \"ticks\": \"outside\"}, \"type\": \"mesh3d\"}], \"parcoords\": [{\"line\": {\"colorbar\": {\"outlinewidth\": 1, \"tickcolor\": \"rgb(36,36,36)\", \"ticks\": \"outside\"}}, \"type\": \"parcoords\"}], \"pie\": [{\"automargin\": true, \"type\": \"pie\"}], \"scatter\": [{\"marker\": {\"colorbar\": {\"outlinewidth\": 1, \"tickcolor\": \"rgb(36,36,36)\", \"ticks\": \"outside\"}}, \"type\": \"scatter\"}], \"scatter3d\": [{\"line\": {\"colorbar\": {\"outlinewidth\": 1, \"tickcolor\": \"rgb(36,36,36)\", \"ticks\": \"outside\"}}, \"marker\": {\"colorbar\": {\"outlinewidth\": 1, \"tickcolor\": \"rgb(36,36,36)\", \"ticks\": \"outside\"}}, \"type\": \"scatter3d\"}], \"scattercarpet\": [{\"marker\": {\"colorbar\": {\"outlinewidth\": 1, \"tickcolor\": \"rgb(36,36,36)\", \"ticks\": \"outside\"}}, \"type\": \"scattercarpet\"}], \"scattergeo\": [{\"marker\": {\"colorbar\": {\"outlinewidth\": 1, \"tickcolor\": \"rgb(36,36,36)\", \"ticks\": \"outside\"}}, \"type\": \"scattergeo\"}], \"scattergl\": [{\"marker\": {\"colorbar\": {\"outlinewidth\": 1, \"tickcolor\": \"rgb(36,36,36)\", \"ticks\": \"outside\"}}, \"type\": \"scattergl\"}], \"scattermapbox\": [{\"marker\": {\"colorbar\": {\"outlinewidth\": 1, \"tickcolor\": \"rgb(36,36,36)\", \"ticks\": \"outside\"}}, \"type\": \"scattermapbox\"}], \"scatterpolar\": [{\"marker\": {\"colorbar\": {\"outlinewidth\": 1, \"tickcolor\": \"rgb(36,36,36)\", \"ticks\": \"outside\"}}, \"type\": \"scatterpolar\"}], \"scatterpolargl\": [{\"marker\": {\"colorbar\": {\"outlinewidth\": 1, \"tickcolor\": \"rgb(36,36,36)\", \"ticks\": \"outside\"}}, \"type\": \"scatterpolargl\"}], \"scatterternary\": [{\"marker\": {\"colorbar\": {\"outlinewidth\": 1, \"tickcolor\": \"rgb(36,36,36)\", \"ticks\": \"outside\"}}, \"type\": \"scatterternary\"}], \"surface\": [{\"colorbar\": {\"outlinewidth\": 1, \"tickcolor\": \"rgb(36,36,36)\", \"ticks\": \"outside\"}, \"colorscale\": [[0.0, \"#440154\"], [0.1111111111111111, \"#482878\"], [0.2222222222222222, \"#3e4989\"], [0.3333333333333333, \"#31688e\"], [0.4444444444444444, \"#26828e\"], [0.5555555555555556, \"#1f9e89\"], [0.6666666666666666, \"#35b779\"], [0.7777777777777778, \"#6ece58\"], [0.8888888888888888, \"#b5de2b\"], [1.0, \"#fde725\"]], \"type\": \"surface\"}], \"table\": [{\"cells\": {\"fill\": {\"color\": \"rgb(237,237,237)\"}, \"line\": {\"color\": \"white\"}}, \"header\": {\"fill\": {\"color\": \"rgb(217,217,217)\"}, \"line\": {\"color\": \"white\"}}, \"type\": \"table\"}]}, \"layout\": {\"annotationdefaults\": {\"arrowhead\": 0, \"arrowwidth\": 1}, \"coloraxis\": {\"colorbar\": {\"outlinewidth\": 1, \"tickcolor\": \"rgb(36,36,36)\", \"ticks\": \"outside\"}}, \"colorscale\": {\"diverging\": [[0.0, \"rgb(103,0,31)\"], [0.1, \"rgb(178,24,43)\"], [0.2, \"rgb(214,96,77)\"], [0.3, \"rgb(244,165,130)\"], [0.4, \"rgb(253,219,199)\"], [0.5, \"rgb(247,247,247)\"], [0.6, \"rgb(209,229,240)\"], [0.7, \"rgb(146,197,222)\"], [0.8, \"rgb(67,147,195)\"], [0.9, \"rgb(33,102,172)\"], [1.0, \"rgb(5,48,97)\"]], \"sequential\": [[0.0, \"#440154\"], [0.1111111111111111, \"#482878\"], [0.2222222222222222, \"#3e4989\"], [0.3333333333333333, \"#31688e\"], [0.4444444444444444, \"#26828e\"], [0.5555555555555556, \"#1f9e89\"], [0.6666666666666666, \"#35b779\"], [0.7777777777777778, \"#6ece58\"], [0.8888888888888888, \"#b5de2b\"], [1.0, \"#fde725\"]], \"sequentialminus\": [[0.0, \"#440154\"], [0.1111111111111111, \"#482878\"], [0.2222222222222222, \"#3e4989\"], [0.3333333333333333, \"#31688e\"], [0.4444444444444444, \"#26828e\"], [0.5555555555555556, \"#1f9e89\"], [0.6666666666666666, \"#35b779\"], [0.7777777777777778, \"#6ece58\"], [0.8888888888888888, \"#b5de2b\"], [1.0, \"#fde725\"]]}, \"colorway\": [\"#1F77B4\", \"#FF7F0E\", \"#2CA02C\", \"#D62728\", \"#9467BD\", \"#8C564B\", \"#E377C2\", \"#7F7F7F\", \"#BCBD22\", \"#17BECF\"], \"font\": {\"color\": \"rgb(36,36,36)\"}, \"geo\": {\"bgcolor\": \"white\", \"lakecolor\": \"white\", \"landcolor\": \"white\", \"showlakes\": true, \"showland\": true, \"subunitcolor\": \"white\"}, \"hoverlabel\": {\"align\": \"left\"}, \"hovermode\": \"closest\", \"mapbox\": {\"style\": \"light\"}, \"paper_bgcolor\": \"white\", \"plot_bgcolor\": \"white\", \"polar\": {\"angularaxis\": {\"gridcolor\": \"rgb(232,232,232)\", \"linecolor\": \"rgb(36,36,36)\", \"showgrid\": false, \"showline\": true, \"ticks\": \"outside\"}, \"bgcolor\": \"white\", \"radialaxis\": {\"gridcolor\": \"rgb(232,232,232)\", \"linecolor\": \"rgb(36,36,36)\", \"showgrid\": false, \"showline\": true, \"ticks\": \"outside\"}}, \"scene\": {\"xaxis\": {\"backgroundcolor\": \"white\", \"gridcolor\": \"rgb(232,232,232)\", \"gridwidth\": 2, \"linecolor\": \"rgb(36,36,36)\", \"showbackground\": true, \"showgrid\": false, \"showline\": true, \"ticks\": \"outside\", \"zeroline\": false, \"zerolinecolor\": \"rgb(36,36,36)\"}, \"yaxis\": {\"backgroundcolor\": \"white\", \"gridcolor\": \"rgb(232,232,232)\", \"gridwidth\": 2, \"linecolor\": \"rgb(36,36,36)\", \"showbackground\": true, \"showgrid\": false, \"showline\": true, \"ticks\": \"outside\", \"zeroline\": false, \"zerolinecolor\": \"rgb(36,36,36)\"}, \"zaxis\": {\"backgroundcolor\": \"white\", \"gridcolor\": \"rgb(232,232,232)\", \"gridwidth\": 2, \"linecolor\": \"rgb(36,36,36)\", \"showbackground\": true, \"showgrid\": false, \"showline\": true, \"ticks\": \"outside\", \"zeroline\": false, \"zerolinecolor\": \"rgb(36,36,36)\"}}, \"shapedefaults\": {\"fillcolor\": \"black\", \"line\": {\"width\": 0}, \"opacity\": 0.3}, \"ternary\": {\"aaxis\": {\"gridcolor\": \"rgb(232,232,232)\", \"linecolor\": \"rgb(36,36,36)\", \"showgrid\": false, \"showline\": true, \"ticks\": \"outside\"}, \"baxis\": {\"gridcolor\": \"rgb(232,232,232)\", \"linecolor\": \"rgb(36,36,36)\", \"showgrid\": false, \"showline\": true, \"ticks\": \"outside\"}, \"bgcolor\": \"white\", \"caxis\": {\"gridcolor\": \"rgb(232,232,232)\", \"linecolor\": \"rgb(36,36,36)\", \"showgrid\": false, \"showline\": true, \"ticks\": \"outside\"}}, \"title\": {\"x\": 0.05}, \"xaxis\": {\"automargin\": true, \"gridcolor\": \"rgb(232,232,232)\", \"linecolor\": \"rgb(36,36,36)\", \"showgrid\": false, \"showline\": true, \"ticks\": \"outside\", \"title\": {\"standoff\": 15}, \"zeroline\": false, \"zerolinecolor\": \"rgb(36,36,36)\"}, \"yaxis\": {\"automargin\": true, \"gridcolor\": \"rgb(232,232,232)\", \"linecolor\": \"rgb(36,36,36)\", \"showgrid\": false, \"showline\": true, \"ticks\": \"outside\", \"title\": {\"standoff\": 15}, \"zeroline\": false, \"zerolinecolor\": \"rgb(36,36,36)\"}}}, \"xaxis\": {\"title\": {\"text\": \"Year\"}}, \"yaxis\": {\"title\": {\"text\": \"Number of Certified B Corporations\"}}},\n",
       "                        {\"responsive\": true}\n",
       "                    ).then(function(){\n",
       "                            \n",
       "var gd = document.getElementById('21176967-973c-41f4-8818-af5fc5307d5c');\n",
       "var x = new MutationObserver(function (mutations, observer) {{\n",
       "        var display = window.getComputedStyle(gd).display;\n",
       "        if (!display || display === 'none') {{\n",
       "            console.log([gd, 'removed!']);\n",
       "            Plotly.purge(gd);\n",
       "            observer.disconnect();\n",
       "        }}\n",
       "}});\n",
       "\n",
       "// Listen for the removal of the full notebook cells\n",
       "var notebookContainer = gd.closest('#notebook-container');\n",
       "if (notebookContainer) {{\n",
       "    x.observe(notebookContainer, {childList: true});\n",
       "}}\n",
       "\n",
       "// Listen for the clearing of the current output cell\n",
       "var outputEl = gd.closest('.output');\n",
       "if (outputEl) {{\n",
       "    x.observe(outputEl, {childList: true});\n",
       "}}\n",
       "\n",
       "                        })\n",
       "                };\n",
       "                });\n",
       "            </script>\n",
       "        </div>"
      ]
     },
     "metadata": {},
     "output_type": "display_data"
    }
   ],
   "source": [
    "fig = go.Figure(\n",
    "        data=go.Scatter(\n",
    "            x=list(counts.index),\n",
    "            y=counts.cumsum(),\n",
    "            marker_color='#19B1BA',\n",
    "            hovertemplate=\"%{x}: %{y}<extra></extra>\",\n",
    "            orientation='h'),\n",
    "        layout=go.Layout(\n",
    "            margin={'l': 10, 'r': 10, 't': 10, 'b': 10},\n",
    "            template='simple_white'\n",
    "        ))\n",
    "fig.update_layout(\n",
    "        xaxis_title=\"Year\",\n",
    "        yaxis_title=\"Number of Certified B Corporations\",\n",
    "        height=350)\n",
    "fig"
   ]
  },
  {
   "cell_type": "code",
   "execution_count": null,
   "metadata": {},
   "outputs": [],
   "source": [
    "df = pd.read_csv(\"../data/mapped_ont_bcorps.csv\")"
   ]
  }
 ],
 "metadata": {
  "kernelspec": {
   "display_name": "Python 3",
   "language": "python",
   "name": "python3"
  },
  "language_info": {
   "codemirror_mode": {
    "name": "ipython",
    "version": 3
   },
   "file_extension": ".py",
   "mimetype": "text/x-python",
   "name": "python",
   "nbconvert_exporter": "python",
   "pygments_lexer": "ipython3",
   "version": "3.7.7"
  }
 },
 "nbformat": 4,
 "nbformat_minor": 4
}
