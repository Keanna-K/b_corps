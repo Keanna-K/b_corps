{
 "cells": [
  {
   "cell_type": "markdown",
   "metadata": {},
   "source": [
    "# Create Geo Map of Ontario B Corporations\n",
    "\n",
    "author: Keanna Knebel\n",
    "\n",
    "date: 2020-08-07"
   ]
  },
  {
   "cell_type": "code",
   "execution_count": 1,
   "metadata": {},
   "outputs": [],
   "source": [
    "import pandas as pd\n",
    "import numpy as np\n",
    "import re\n",
    "import json\n",
    "\n",
    "# Plotly\n",
    "import plotly.graph_objects as go\n",
    "import plotly.express as px"
   ]
  },
  {
   "cell_type": "code",
   "execution_count": 2,
   "metadata": {},
   "outputs": [],
   "source": [
    "with open('creds.json') as f:\n",
    "    data = json.load(f)\n",
    "mapbox_access_token = data['map_box_key']"
   ]
  },
  {
   "cell_type": "code",
   "execution_count": 3,
   "metadata": {},
   "outputs": [
    {
     "data": {
      "text/html": [
       "<div>\n",
       "<style scoped>\n",
       "    .dataframe tbody tr th:only-of-type {\n",
       "        vertical-align: middle;\n",
       "    }\n",
       "\n",
       "    .dataframe tbody tr th {\n",
       "        vertical-align: top;\n",
       "    }\n",
       "\n",
       "    .dataframe thead th {\n",
       "        text-align: right;\n",
       "    }\n",
       "</style>\n",
       "<table border=\"1\" class=\"dataframe\">\n",
       "  <thead>\n",
       "    <tr style=\"text-align: right;\">\n",
       "      <th></th>\n",
       "      <th>company_name</th>\n",
       "      <th>date_first_certified</th>\n",
       "      <th>date_certified</th>\n",
       "      <th>current_status</th>\n",
       "      <th>description</th>\n",
       "      <th>industry</th>\n",
       "      <th>industry_category</th>\n",
       "      <th>products_and_services</th>\n",
       "      <th>country</th>\n",
       "      <th>state</th>\n",
       "      <th>...</th>\n",
       "      <th>website</th>\n",
       "      <th>assessment_year</th>\n",
       "      <th>overall_score</th>\n",
       "      <th>impact_area_community</th>\n",
       "      <th>impact_area_customers</th>\n",
       "      <th>impact_area_environment</th>\n",
       "      <th>impact_area_governance</th>\n",
       "      <th>impact_area_workers</th>\n",
       "      <th>geom</th>\n",
       "      <th>specific</th>\n",
       "    </tr>\n",
       "  </thead>\n",
       "  <tbody>\n",
       "    <tr>\n",
       "      <th>0</th>\n",
       "      <td>Vancity Community Investment Bank</td>\n",
       "      <td>2018-02-13</td>\n",
       "      <td>2018-02-13</td>\n",
       "      <td>certified</td>\n",
       "      <td>VCIB is a nationally-focused subsidiary of Van...</td>\n",
       "      <td>Credit Provider</td>\n",
       "      <td>Financial Services</td>\n",
       "      <td>VCIB provides debt financing and advisory serv...</td>\n",
       "      <td>Canada</td>\n",
       "      <td>Ontario</td>\n",
       "      <td>...</td>\n",
       "      <td>www.vancitycommunityinvestmentbank.ca</td>\n",
       "      <td>2017</td>\n",
       "      <td>89.7</td>\n",
       "      <td>18.1</td>\n",
       "      <td>14.1</td>\n",
       "      <td>10.9</td>\n",
       "      <td>11.8</td>\n",
       "      <td>33.3</td>\n",
       "      <td>{'lat': 43.644175, 'lng': -79.4022042}</td>\n",
       "      <td>1</td>\n",
       "    </tr>\n",
       "    <tr>\n",
       "      <th>1</th>\n",
       "      <td>PenFinancial Credit Union Limited</td>\n",
       "      <td>2019-01-30</td>\n",
       "      <td>2019-01-30</td>\n",
       "      <td>certified</td>\n",
       "      <td>A truly local Niagara based financial co-opera...</td>\n",
       "      <td>Other</td>\n",
       "      <td>Financial Services</td>\n",
       "      <td>Financial products and services, including wea...</td>\n",
       "      <td>Canada</td>\n",
       "      <td>Ontario</td>\n",
       "      <td>...</td>\n",
       "      <td>www.penfinancial.com</td>\n",
       "      <td>2018</td>\n",
       "      <td>109.3</td>\n",
       "      <td>36.4</td>\n",
       "      <td>13.2</td>\n",
       "      <td>2.2</td>\n",
       "      <td>19.6</td>\n",
       "      <td>37.7</td>\n",
       "      <td>{'lat': 43.1556225, 'lng': -79.2729631}</td>\n",
       "      <td>1</td>\n",
       "    </tr>\n",
       "    <tr>\n",
       "      <th>2</th>\n",
       "      <td>Ian Martin Group</td>\n",
       "      <td>2012-01-09</td>\n",
       "      <td>2019-03-01</td>\n",
       "      <td>certified</td>\n",
       "      <td>Founded by engineers to support the needs of t...</td>\n",
       "      <td>HR Consulting &amp; Recruiting</td>\n",
       "      <td>Business Products &amp; Services</td>\n",
       "      <td>Technical Recruiting and Hiring Technology</td>\n",
       "      <td>Canada</td>\n",
       "      <td>Ontario</td>\n",
       "      <td>...</td>\n",
       "      <td>ianmartin.com</td>\n",
       "      <td>2018</td>\n",
       "      <td>109.8</td>\n",
       "      <td>41.8</td>\n",
       "      <td>0.0</td>\n",
       "      <td>11.3</td>\n",
       "      <td>22.0</td>\n",
       "      <td>34.6</td>\n",
       "      <td>{'lat': 43.4665765, 'lng': -79.67689879999999}</td>\n",
       "      <td>1</td>\n",
       "    </tr>\n",
       "    <tr>\n",
       "      <th>3</th>\n",
       "      <td>Oliberte Limited</td>\n",
       "      <td>2012-06-20</td>\n",
       "      <td>2020-04-28</td>\n",
       "      <td>certified</td>\n",
       "      <td>Oliberté is a Canadian premium leather goods c...</td>\n",
       "      <td>Apparel, Footwear &amp; Accessories</td>\n",
       "      <td>Consumer Products &amp; Services</td>\n",
       "      <td>Footwear, Bags</td>\n",
       "      <td>Canada</td>\n",
       "      <td>Ontario</td>\n",
       "      <td>...</td>\n",
       "      <td>oliberte.com</td>\n",
       "      <td>2019</td>\n",
       "      <td>80.6</td>\n",
       "      <td>19.9</td>\n",
       "      <td>3.4</td>\n",
       "      <td>19.1</td>\n",
       "      <td>14.7</td>\n",
       "      <td>23.2</td>\n",
       "      <td>{'lat': 43.4286135, 'lng': -79.7062878}</td>\n",
       "      <td>1</td>\n",
       "    </tr>\n",
       "    <tr>\n",
       "      <th>4</th>\n",
       "      <td>Good Food for Good Inc.</td>\n",
       "      <td>2018-06-28</td>\n",
       "      <td>2018-06-28</td>\n",
       "      <td>certified</td>\n",
       "      <td>Good Food For Good is an organic food company ...</td>\n",
       "      <td>Food &amp; Beverage</td>\n",
       "      <td>Consumer Products &amp; Services</td>\n",
       "      <td>Organic Ketchup, BBQ Sauces, Fresh Cooking Sau...</td>\n",
       "      <td>Canada</td>\n",
       "      <td>Ontario</td>\n",
       "      <td>...</td>\n",
       "      <td>www.goodfoodforgood.ca</td>\n",
       "      <td>2018</td>\n",
       "      <td>88.0</td>\n",
       "      <td>42.4</td>\n",
       "      <td>0.0</td>\n",
       "      <td>18.2</td>\n",
       "      <td>7.4</td>\n",
       "      <td>19.9</td>\n",
       "      <td>{'lat': 45.1377, 'lng': -76.1429}</td>\n",
       "      <td>1</td>\n",
       "    </tr>\n",
       "  </tbody>\n",
       "</table>\n",
       "<p>5 rows × 24 columns</p>\n",
       "</div>"
      ],
      "text/plain": [
       "                        company_name date_first_certified date_certified  \\\n",
       "0  Vancity Community Investment Bank           2018-02-13     2018-02-13   \n",
       "1  PenFinancial Credit Union Limited           2019-01-30     2019-01-30   \n",
       "2                   Ian Martin Group           2012-01-09     2019-03-01   \n",
       "3                   Oliberte Limited           2012-06-20     2020-04-28   \n",
       "4            Good Food for Good Inc.           2018-06-28     2018-06-28   \n",
       "\n",
       "  current_status                                        description  \\\n",
       "0      certified  VCIB is a nationally-focused subsidiary of Van...   \n",
       "1      certified  A truly local Niagara based financial co-opera...   \n",
       "2      certified  Founded by engineers to support the needs of t...   \n",
       "3      certified  Oliberté is a Canadian premium leather goods c...   \n",
       "4      certified  Good Food For Good is an organic food company ...   \n",
       "\n",
       "                          industry             industry_category  \\\n",
       "0                  Credit Provider            Financial Services   \n",
       "1                            Other            Financial Services   \n",
       "2       HR Consulting & Recruiting  Business Products & Services   \n",
       "3  Apparel, Footwear & Accessories  Consumer Products & Services   \n",
       "4                  Food & Beverage  Consumer Products & Services   \n",
       "\n",
       "                               products_and_services country    state  ...  \\\n",
       "0  VCIB provides debt financing and advisory serv...  Canada  Ontario  ...   \n",
       "1  Financial products and services, including wea...  Canada  Ontario  ...   \n",
       "2         Technical Recruiting and Hiring Technology  Canada  Ontario  ...   \n",
       "3                                     Footwear, Bags  Canada  Ontario  ...   \n",
       "4  Organic Ketchup, BBQ Sauces, Fresh Cooking Sau...  Canada  Ontario  ...   \n",
       "\n",
       "                                 website assessment_year overall_score  \\\n",
       "0  www.vancitycommunityinvestmentbank.ca            2017          89.7   \n",
       "1                   www.penfinancial.com            2018         109.3   \n",
       "2                          ianmartin.com            2018         109.8   \n",
       "3                           oliberte.com            2019          80.6   \n",
       "4                 www.goodfoodforgood.ca            2018          88.0   \n",
       "\n",
       "  impact_area_community impact_area_customers  impact_area_environment  \\\n",
       "0                  18.1                  14.1                     10.9   \n",
       "1                  36.4                  13.2                      2.2   \n",
       "2                  41.8                   0.0                     11.3   \n",
       "3                  19.9                   3.4                     19.1   \n",
       "4                  42.4                   0.0                     18.2   \n",
       "\n",
       "   impact_area_governance  impact_area_workers  \\\n",
       "0                    11.8                 33.3   \n",
       "1                    19.6                 37.7   \n",
       "2                    22.0                 34.6   \n",
       "3                    14.7                 23.2   \n",
       "4                     7.4                 19.9   \n",
       "\n",
       "                                             geom  specific  \n",
       "0          {'lat': 43.644175, 'lng': -79.4022042}         1  \n",
       "1         {'lat': 43.1556225, 'lng': -79.2729631}         1  \n",
       "2  {'lat': 43.4665765, 'lng': -79.67689879999999}         1  \n",
       "3         {'lat': 43.4286135, 'lng': -79.7062878}         1  \n",
       "4               {'lat': 45.1377, 'lng': -76.1429}         1  \n",
       "\n",
       "[5 rows x 24 columns]"
      ]
     },
     "execution_count": 3,
     "metadata": {},
     "output_type": "execute_result"
    }
   ],
   "source": [
    "df = pd.read_csv(\"data/ont_bcorps.csv\")\n",
    "\n",
    "df = df[df.current_status == 'certified']\n",
    "df.drop_duplicates(subset=['company_name'], inplace=True, ignore_index=True)\n",
    "df.head()"
   ]
  },
  {
   "cell_type": "code",
   "execution_count": 4,
   "metadata": {},
   "outputs": [],
   "source": [
    "# initialize empty lists\n",
    "lat = []\n",
    "long = []\n",
    "\n",
    "# format the geom column into longitude and latitude\n",
    "for x in df.geom:\n",
    "    x = re.sub('[{}\\',]', '', x)\n",
    "    x = x.split()\n",
    "    lat.append(float(x[1]))\n",
    "    long.append(float(x[3]))"
   ]
  },
  {
   "cell_type": "code",
   "execution_count": 5,
   "metadata": {},
   "outputs": [
    {
     "data": {
      "text/html": [
       "<div>\n",
       "<style scoped>\n",
       "    .dataframe tbody tr th:only-of-type {\n",
       "        vertical-align: middle;\n",
       "    }\n",
       "\n",
       "    .dataframe tbody tr th {\n",
       "        vertical-align: top;\n",
       "    }\n",
       "\n",
       "    .dataframe thead th {\n",
       "        text-align: right;\n",
       "    }\n",
       "</style>\n",
       "<table border=\"1\" class=\"dataframe\">\n",
       "  <thead>\n",
       "    <tr style=\"text-align: right;\">\n",
       "      <th></th>\n",
       "      <th>company_name</th>\n",
       "      <th>date_first_certified</th>\n",
       "      <th>date_certified</th>\n",
       "      <th>current_status</th>\n",
       "      <th>description</th>\n",
       "      <th>industry</th>\n",
       "      <th>industry_category</th>\n",
       "      <th>products_and_services</th>\n",
       "      <th>country</th>\n",
       "      <th>state</th>\n",
       "      <th>...</th>\n",
       "      <th>overall_score</th>\n",
       "      <th>impact_area_community</th>\n",
       "      <th>impact_area_customers</th>\n",
       "      <th>impact_area_environment</th>\n",
       "      <th>impact_area_governance</th>\n",
       "      <th>impact_area_workers</th>\n",
       "      <th>geom</th>\n",
       "      <th>specific</th>\n",
       "      <th>lat</th>\n",
       "      <th>long</th>\n",
       "    </tr>\n",
       "  </thead>\n",
       "  <tbody>\n",
       "    <tr>\n",
       "      <th>0</th>\n",
       "      <td>Vancity Community Investment Bank</td>\n",
       "      <td>2018-02-13</td>\n",
       "      <td>2018-02-13</td>\n",
       "      <td>certified</td>\n",
       "      <td>VCIB is a nationally-focused subsidiary of Van...</td>\n",
       "      <td>Credit Provider</td>\n",
       "      <td>Financial Services</td>\n",
       "      <td>VCIB provides debt financing and advisory serv...</td>\n",
       "      <td>Canada</td>\n",
       "      <td>Ontario</td>\n",
       "      <td>...</td>\n",
       "      <td>89.7</td>\n",
       "      <td>18.1</td>\n",
       "      <td>14.1</td>\n",
       "      <td>10.9</td>\n",
       "      <td>11.8</td>\n",
       "      <td>33.3</td>\n",
       "      <td>{'lat': 43.644175, 'lng': -79.4022042}</td>\n",
       "      <td>1</td>\n",
       "      <td>43.644175</td>\n",
       "      <td>-79.402204</td>\n",
       "    </tr>\n",
       "    <tr>\n",
       "      <th>1</th>\n",
       "      <td>PenFinancial Credit Union Limited</td>\n",
       "      <td>2019-01-30</td>\n",
       "      <td>2019-01-30</td>\n",
       "      <td>certified</td>\n",
       "      <td>A truly local Niagara based financial co-opera...</td>\n",
       "      <td>Other</td>\n",
       "      <td>Financial Services</td>\n",
       "      <td>Financial products and services, including wea...</td>\n",
       "      <td>Canada</td>\n",
       "      <td>Ontario</td>\n",
       "      <td>...</td>\n",
       "      <td>109.3</td>\n",
       "      <td>36.4</td>\n",
       "      <td>13.2</td>\n",
       "      <td>2.2</td>\n",
       "      <td>19.6</td>\n",
       "      <td>37.7</td>\n",
       "      <td>{'lat': 43.1556225, 'lng': -79.2729631}</td>\n",
       "      <td>1</td>\n",
       "      <td>43.155622</td>\n",
       "      <td>-79.272963</td>\n",
       "    </tr>\n",
       "    <tr>\n",
       "      <th>2</th>\n",
       "      <td>Ian Martin Group</td>\n",
       "      <td>2012-01-09</td>\n",
       "      <td>2019-03-01</td>\n",
       "      <td>certified</td>\n",
       "      <td>Founded by engineers to support the needs of t...</td>\n",
       "      <td>HR Consulting &amp; Recruiting</td>\n",
       "      <td>Business Products &amp; Services</td>\n",
       "      <td>Technical Recruiting and Hiring Technology</td>\n",
       "      <td>Canada</td>\n",
       "      <td>Ontario</td>\n",
       "      <td>...</td>\n",
       "      <td>109.8</td>\n",
       "      <td>41.8</td>\n",
       "      <td>0.0</td>\n",
       "      <td>11.3</td>\n",
       "      <td>22.0</td>\n",
       "      <td>34.6</td>\n",
       "      <td>{'lat': 43.4665765, 'lng': -79.67689879999999}</td>\n",
       "      <td>1</td>\n",
       "      <td>43.466577</td>\n",
       "      <td>-79.676899</td>\n",
       "    </tr>\n",
       "    <tr>\n",
       "      <th>3</th>\n",
       "      <td>Oliberte Limited</td>\n",
       "      <td>2012-06-20</td>\n",
       "      <td>2020-04-28</td>\n",
       "      <td>certified</td>\n",
       "      <td>Oliberté is a Canadian premium leather goods c...</td>\n",
       "      <td>Apparel, Footwear &amp; Accessories</td>\n",
       "      <td>Consumer Products &amp; Services</td>\n",
       "      <td>Footwear, Bags</td>\n",
       "      <td>Canada</td>\n",
       "      <td>Ontario</td>\n",
       "      <td>...</td>\n",
       "      <td>80.6</td>\n",
       "      <td>19.9</td>\n",
       "      <td>3.4</td>\n",
       "      <td>19.1</td>\n",
       "      <td>14.7</td>\n",
       "      <td>23.2</td>\n",
       "      <td>{'lat': 43.4286135, 'lng': -79.7062878}</td>\n",
       "      <td>1</td>\n",
       "      <td>43.428613</td>\n",
       "      <td>-79.706288</td>\n",
       "    </tr>\n",
       "    <tr>\n",
       "      <th>4</th>\n",
       "      <td>Good Food for Good Inc.</td>\n",
       "      <td>2018-06-28</td>\n",
       "      <td>2018-06-28</td>\n",
       "      <td>certified</td>\n",
       "      <td>Good Food For Good is an organic food company ...</td>\n",
       "      <td>Food &amp; Beverage</td>\n",
       "      <td>Consumer Products &amp; Services</td>\n",
       "      <td>Organic Ketchup, BBQ Sauces, Fresh Cooking Sau...</td>\n",
       "      <td>Canada</td>\n",
       "      <td>Ontario</td>\n",
       "      <td>...</td>\n",
       "      <td>88.0</td>\n",
       "      <td>42.4</td>\n",
       "      <td>0.0</td>\n",
       "      <td>18.2</td>\n",
       "      <td>7.4</td>\n",
       "      <td>19.9</td>\n",
       "      <td>{'lat': 45.1377, 'lng': -76.1429}</td>\n",
       "      <td>1</td>\n",
       "      <td>45.137700</td>\n",
       "      <td>-76.142900</td>\n",
       "    </tr>\n",
       "  </tbody>\n",
       "</table>\n",
       "<p>5 rows × 26 columns</p>\n",
       "</div>"
      ],
      "text/plain": [
       "                        company_name date_first_certified date_certified  \\\n",
       "0  Vancity Community Investment Bank           2018-02-13     2018-02-13   \n",
       "1  PenFinancial Credit Union Limited           2019-01-30     2019-01-30   \n",
       "2                   Ian Martin Group           2012-01-09     2019-03-01   \n",
       "3                   Oliberte Limited           2012-06-20     2020-04-28   \n",
       "4            Good Food for Good Inc.           2018-06-28     2018-06-28   \n",
       "\n",
       "  current_status                                        description  \\\n",
       "0      certified  VCIB is a nationally-focused subsidiary of Van...   \n",
       "1      certified  A truly local Niagara based financial co-opera...   \n",
       "2      certified  Founded by engineers to support the needs of t...   \n",
       "3      certified  Oliberté is a Canadian premium leather goods c...   \n",
       "4      certified  Good Food For Good is an organic food company ...   \n",
       "\n",
       "                          industry             industry_category  \\\n",
       "0                  Credit Provider            Financial Services   \n",
       "1                            Other            Financial Services   \n",
       "2       HR Consulting & Recruiting  Business Products & Services   \n",
       "3  Apparel, Footwear & Accessories  Consumer Products & Services   \n",
       "4                  Food & Beverage  Consumer Products & Services   \n",
       "\n",
       "                               products_and_services country    state  ...  \\\n",
       "0  VCIB provides debt financing and advisory serv...  Canada  Ontario  ...   \n",
       "1  Financial products and services, including wea...  Canada  Ontario  ...   \n",
       "2         Technical Recruiting and Hiring Technology  Canada  Ontario  ...   \n",
       "3                                     Footwear, Bags  Canada  Ontario  ...   \n",
       "4  Organic Ketchup, BBQ Sauces, Fresh Cooking Sau...  Canada  Ontario  ...   \n",
       "\n",
       "  overall_score impact_area_community impact_area_customers  \\\n",
       "0          89.7                  18.1                  14.1   \n",
       "1         109.3                  36.4                  13.2   \n",
       "2         109.8                  41.8                   0.0   \n",
       "3          80.6                  19.9                   3.4   \n",
       "4          88.0                  42.4                   0.0   \n",
       "\n",
       "  impact_area_environment impact_area_governance  impact_area_workers  \\\n",
       "0                    10.9                   11.8                 33.3   \n",
       "1                     2.2                   19.6                 37.7   \n",
       "2                    11.3                   22.0                 34.6   \n",
       "3                    19.1                   14.7                 23.2   \n",
       "4                    18.2                    7.4                 19.9   \n",
       "\n",
       "                                             geom  specific        lat  \\\n",
       "0          {'lat': 43.644175, 'lng': -79.4022042}         1  43.644175   \n",
       "1         {'lat': 43.1556225, 'lng': -79.2729631}         1  43.155622   \n",
       "2  {'lat': 43.4665765, 'lng': -79.67689879999999}         1  43.466577   \n",
       "3         {'lat': 43.4286135, 'lng': -79.7062878}         1  43.428613   \n",
       "4               {'lat': 45.1377, 'lng': -76.1429}         1  45.137700   \n",
       "\n",
       "        long  \n",
       "0 -79.402204  \n",
       "1 -79.272963  \n",
       "2 -79.676899  \n",
       "3 -79.706288  \n",
       "4 -76.142900  \n",
       "\n",
       "[5 rows x 26 columns]"
      ]
     },
     "execution_count": 5,
     "metadata": {},
     "output_type": "execute_result"
    }
   ],
   "source": [
    "df['lat'] = lat\n",
    "df['long'] = long\n",
    "df.head()"
   ]
  },
  {
   "cell_type": "code",
   "execution_count": 6,
   "metadata": {},
   "outputs": [],
   "source": [
    "# replace NaN values with string 'N/A'\n",
    "df.replace(np.nan, {'industry': 'N/A ', 'industry_category': 'N/A '}, inplace=True)\n",
    "\n",
    "# Save dataframe to CSV file\n",
    "df.to_csv('data/mapped_ont_bcorps.csv', index=False)"
   ]
  },
  {
   "cell_type": "code",
   "execution_count": null,
   "metadata": {},
   "outputs": [],
   "source": [
    "latInitial = 44\n",
    "lonInitial = -79\n",
    "zoom = 5.5\n",
    "opacity = 0.75\n",
    "\n",
    "customdata = pd.DataFrame({\n",
    "            'Business Name': df.company_name,\n",
    "            'Industry': df.industry_category,\n",
    "            'Cert': df.date_first_certified,\n",
    "            'Impact Score' : df.overall_score})\n",
    "\n",
    "fig = (go.Figure(\n",
    "    data=go.Scattermapbox(\n",
    "        lat=df['lat'],\n",
    "        lon=df['long'],\n",
    "        mode=\"markers\",\n",
    "        customdata=customdata,\n",
    "        marker=dict(\n",
    "            opacity=opacity,\n",
    "            size=7,\n",
    "            color=df['overall_score'],\n",
    "            colorscale='YlOrRd',\n",
    "            showscale=True,\n",
    "            colorbar=dict(\n",
    "                title=\"Overall Impact Score\",\n",
    "                titlefont=dict(\n",
    "                    family='Open Sans',\n",
    "                    size=16),\n",
    "                bgcolor=\"#404349\",\n",
    "                x=1,\n",
    "                xanchor='left',\n",
    "                ticks=\"outside\",\n",
    "                tickcolor=\"white\",\n",
    "                tickwidth=2,)),\n",
    "        hovertemplate=\n",
    "            \"<b>%{customdata[0]}</b><br>\" +\n",
    "            \"<br>Industry: %{customdata[1]}\" +\n",
    "            \"<br>Certified since: %{customdata[2]}\" +\n",
    "            \"<br>Overall Impact Score: %{customdata[3]}\" +\n",
    "            \"<extra></extra>\"\n",
    "    ),\n",
    "\n",
    "    layout=go.Layout(\n",
    "        margin={'l': 0, 'r': 0, 't': 0, 'b': 0},\n",
    "        autosize=True,\n",
    "        font={\"color\": \"white\"},\n",
    "        mapbox=dict(\n",
    "            accesstoken=mapbox_access_token,\n",
    "            center=dict(\n",
    "                lat=latInitial,\n",
    "                lon=lonInitial),\n",
    "            style=\"dark\",\n",
    "            zoom=zoom,\n",
    "            bearing=0\n",
    "        ),\n",
    "    )\n",
    "))\n",
    "fig.update_layout(\n",
    "    height=100)"
   ]
  },
  {
   "cell_type": "code",
   "execution_count": null,
   "metadata": {},
   "outputs": [],
   "source": []
  },
  {
   "cell_type": "code",
   "execution_count": null,
   "metadata": {},
   "outputs": [],
   "source": [
    "industries = df.industry_category.unique()"
   ]
  },
  {
   "cell_type": "code",
   "execution_count": null,
   "metadata": {},
   "outputs": [],
   "source": [
    "counts = df.industry_category.value_counts()\n",
    "ind = list(counts.index)"
   ]
  },
  {
   "cell_type": "code",
   "execution_count": null,
   "metadata": {},
   "outputs": [],
   "source": [
    "fig = go.Figure(\n",
    "        data=go.Bar(\n",
    "            y=ind,\n",
    "            x=counts,\n",
    "            marker_color='#19B1BA',\n",
    "            hovertemplate=\"%{x}: %{y}<extra></extra>\",\n",
    "            orientation='h'),\n",
    "        layout=go.Layout(\n",
    "            margin={'l': 10, 'r': 10, 't': 10, 'b': 10},\n",
    "            template='simple_white',\n",
    "            annotations=[\n",
    "                dict(\n",
    "                    x=xi,\n",
    "                    y=yi,\n",
    "                    text=yi,\n",
    "                    xanchor=\"left\",\n",
    "                    yanchor=\"middle\",\n",
    "                    showarrow=False,\n",
    "                )\n",
    "            for xi, yi in zip(counts, ind)\n",
    "            ],\n",
    "            yaxis=go.XAxis(\n",
    "                showticklabels=False)\n",
    "        ))\n",
    "fig.update_layout(\n",
    "        barmode='group',\n",
    "        xaxis_title=\"Number of Businesses\",\n",
    "        yaxis_title=\"Industry\",\n",
    "        height=350)\n",
    "fig"
   ]
  },
  {
   "cell_type": "code",
   "execution_count": null,
   "metadata": {},
   "outputs": [],
   "source": [
    "df"
   ]
  },
  {
   "cell_type": "code",
   "execution_count": 8,
   "metadata": {},
   "outputs": [
    {
     "data": {
      "application/vnd.plotly.v1+json": {
       "config": {
        "plotlyServerURL": "https://plot.ly"
       },
       "data": [
        {
         "cells": {
          "align": [
           "left",
           "center"
          ],
          "fill": {
           "color": [
            "white"
           ]
          },
          "font": {
           "size": 20
          },
          "height": 35,
          "values": [
           [
            "Overall Score",
            "Environment",
            "Workers",
            "Community"
           ],
           [
            93,
            14.4,
            15,
            23.6
           ]
          ]
         },
         "type": "table"
        }
       ],
       "layout": {
        "autosize": true,
        "template": {
         "data": {
          "bar": [
           {
            "error_x": {
             "color": "#2a3f5f"
            },
            "error_y": {
             "color": "#2a3f5f"
            },
            "marker": {
             "line": {
              "color": "#E5ECF6",
              "width": 0.5
             }
            },
            "type": "bar"
           }
          ],
          "barpolar": [
           {
            "marker": {
             "line": {
              "color": "#E5ECF6",
              "width": 0.5
             }
            },
            "type": "barpolar"
           }
          ],
          "carpet": [
           {
            "aaxis": {
             "endlinecolor": "#2a3f5f",
             "gridcolor": "white",
             "linecolor": "white",
             "minorgridcolor": "white",
             "startlinecolor": "#2a3f5f"
            },
            "baxis": {
             "endlinecolor": "#2a3f5f",
             "gridcolor": "white",
             "linecolor": "white",
             "minorgridcolor": "white",
             "startlinecolor": "#2a3f5f"
            },
            "type": "carpet"
           }
          ],
          "choropleth": [
           {
            "colorbar": {
             "outlinewidth": 0,
             "ticks": ""
            },
            "type": "choropleth"
           }
          ],
          "contour": [
           {
            "colorbar": {
             "outlinewidth": 0,
             "ticks": ""
            },
            "colorscale": [
             [
              0,
              "#0d0887"
             ],
             [
              0.1111111111111111,
              "#46039f"
             ],
             [
              0.2222222222222222,
              "#7201a8"
             ],
             [
              0.3333333333333333,
              "#9c179e"
             ],
             [
              0.4444444444444444,
              "#bd3786"
             ],
             [
              0.5555555555555556,
              "#d8576b"
             ],
             [
              0.6666666666666666,
              "#ed7953"
             ],
             [
              0.7777777777777778,
              "#fb9f3a"
             ],
             [
              0.8888888888888888,
              "#fdca26"
             ],
             [
              1,
              "#f0f921"
             ]
            ],
            "type": "contour"
           }
          ],
          "contourcarpet": [
           {
            "colorbar": {
             "outlinewidth": 0,
             "ticks": ""
            },
            "type": "contourcarpet"
           }
          ],
          "heatmap": [
           {
            "colorbar": {
             "outlinewidth": 0,
             "ticks": ""
            },
            "colorscale": [
             [
              0,
              "#0d0887"
             ],
             [
              0.1111111111111111,
              "#46039f"
             ],
             [
              0.2222222222222222,
              "#7201a8"
             ],
             [
              0.3333333333333333,
              "#9c179e"
             ],
             [
              0.4444444444444444,
              "#bd3786"
             ],
             [
              0.5555555555555556,
              "#d8576b"
             ],
             [
              0.6666666666666666,
              "#ed7953"
             ],
             [
              0.7777777777777778,
              "#fb9f3a"
             ],
             [
              0.8888888888888888,
              "#fdca26"
             ],
             [
              1,
              "#f0f921"
             ]
            ],
            "type": "heatmap"
           }
          ],
          "heatmapgl": [
           {
            "colorbar": {
             "outlinewidth": 0,
             "ticks": ""
            },
            "colorscale": [
             [
              0,
              "#0d0887"
             ],
             [
              0.1111111111111111,
              "#46039f"
             ],
             [
              0.2222222222222222,
              "#7201a8"
             ],
             [
              0.3333333333333333,
              "#9c179e"
             ],
             [
              0.4444444444444444,
              "#bd3786"
             ],
             [
              0.5555555555555556,
              "#d8576b"
             ],
             [
              0.6666666666666666,
              "#ed7953"
             ],
             [
              0.7777777777777778,
              "#fb9f3a"
             ],
             [
              0.8888888888888888,
              "#fdca26"
             ],
             [
              1,
              "#f0f921"
             ]
            ],
            "type": "heatmapgl"
           }
          ],
          "histogram": [
           {
            "marker": {
             "colorbar": {
              "outlinewidth": 0,
              "ticks": ""
             }
            },
            "type": "histogram"
           }
          ],
          "histogram2d": [
           {
            "colorbar": {
             "outlinewidth": 0,
             "ticks": ""
            },
            "colorscale": [
             [
              0,
              "#0d0887"
             ],
             [
              0.1111111111111111,
              "#46039f"
             ],
             [
              0.2222222222222222,
              "#7201a8"
             ],
             [
              0.3333333333333333,
              "#9c179e"
             ],
             [
              0.4444444444444444,
              "#bd3786"
             ],
             [
              0.5555555555555556,
              "#d8576b"
             ],
             [
              0.6666666666666666,
              "#ed7953"
             ],
             [
              0.7777777777777778,
              "#fb9f3a"
             ],
             [
              0.8888888888888888,
              "#fdca26"
             ],
             [
              1,
              "#f0f921"
             ]
            ],
            "type": "histogram2d"
           }
          ],
          "histogram2dcontour": [
           {
            "colorbar": {
             "outlinewidth": 0,
             "ticks": ""
            },
            "colorscale": [
             [
              0,
              "#0d0887"
             ],
             [
              0.1111111111111111,
              "#46039f"
             ],
             [
              0.2222222222222222,
              "#7201a8"
             ],
             [
              0.3333333333333333,
              "#9c179e"
             ],
             [
              0.4444444444444444,
              "#bd3786"
             ],
             [
              0.5555555555555556,
              "#d8576b"
             ],
             [
              0.6666666666666666,
              "#ed7953"
             ],
             [
              0.7777777777777778,
              "#fb9f3a"
             ],
             [
              0.8888888888888888,
              "#fdca26"
             ],
             [
              1,
              "#f0f921"
             ]
            ],
            "type": "histogram2dcontour"
           }
          ],
          "mesh3d": [
           {
            "colorbar": {
             "outlinewidth": 0,
             "ticks": ""
            },
            "type": "mesh3d"
           }
          ],
          "parcoords": [
           {
            "line": {
             "colorbar": {
              "outlinewidth": 0,
              "ticks": ""
             }
            },
            "type": "parcoords"
           }
          ],
          "pie": [
           {
            "automargin": true,
            "type": "pie"
           }
          ],
          "scatter": [
           {
            "marker": {
             "colorbar": {
              "outlinewidth": 0,
              "ticks": ""
             }
            },
            "type": "scatter"
           }
          ],
          "scatter3d": [
           {
            "line": {
             "colorbar": {
              "outlinewidth": 0,
              "ticks": ""
             }
            },
            "marker": {
             "colorbar": {
              "outlinewidth": 0,
              "ticks": ""
             }
            },
            "type": "scatter3d"
           }
          ],
          "scattercarpet": [
           {
            "marker": {
             "colorbar": {
              "outlinewidth": 0,
              "ticks": ""
             }
            },
            "type": "scattercarpet"
           }
          ],
          "scattergeo": [
           {
            "marker": {
             "colorbar": {
              "outlinewidth": 0,
              "ticks": ""
             }
            },
            "type": "scattergeo"
           }
          ],
          "scattergl": [
           {
            "marker": {
             "colorbar": {
              "outlinewidth": 0,
              "ticks": ""
             }
            },
            "type": "scattergl"
           }
          ],
          "scattermapbox": [
           {
            "marker": {
             "colorbar": {
              "outlinewidth": 0,
              "ticks": ""
             }
            },
            "type": "scattermapbox"
           }
          ],
          "scatterpolar": [
           {
            "marker": {
             "colorbar": {
              "outlinewidth": 0,
              "ticks": ""
             }
            },
            "type": "scatterpolar"
           }
          ],
          "scatterpolargl": [
           {
            "marker": {
             "colorbar": {
              "outlinewidth": 0,
              "ticks": ""
             }
            },
            "type": "scatterpolargl"
           }
          ],
          "scatterternary": [
           {
            "marker": {
             "colorbar": {
              "outlinewidth": 0,
              "ticks": ""
             }
            },
            "type": "scatterternary"
           }
          ],
          "surface": [
           {
            "colorbar": {
             "outlinewidth": 0,
             "ticks": ""
            },
            "colorscale": [
             [
              0,
              "#0d0887"
             ],
             [
              0.1111111111111111,
              "#46039f"
             ],
             [
              0.2222222222222222,
              "#7201a8"
             ],
             [
              0.3333333333333333,
              "#9c179e"
             ],
             [
              0.4444444444444444,
              "#bd3786"
             ],
             [
              0.5555555555555556,
              "#d8576b"
             ],
             [
              0.6666666666666666,
              "#ed7953"
             ],
             [
              0.7777777777777778,
              "#fb9f3a"
             ],
             [
              0.8888888888888888,
              "#fdca26"
             ],
             [
              1,
              "#f0f921"
             ]
            ],
            "type": "surface"
           }
          ],
          "table": [
           {
            "cells": {
             "fill": {
              "color": "#EBF0F8"
             },
             "line": {
              "color": "white"
             }
            },
            "header": {
             "fill": {
              "color": "#C8D4E3"
             },
             "line": {
              "color": "white"
             }
            },
            "type": "table"
           }
          ]
         },
         "layout": {
          "annotationdefaults": {
           "arrowcolor": "#2a3f5f",
           "arrowhead": 0,
           "arrowwidth": 1
          },
          "coloraxis": {
           "colorbar": {
            "outlinewidth": 0,
            "ticks": ""
           }
          },
          "colorscale": {
           "diverging": [
            [
             0,
             "#8e0152"
            ],
            [
             0.1,
             "#c51b7d"
            ],
            [
             0.2,
             "#de77ae"
            ],
            [
             0.3,
             "#f1b6da"
            ],
            [
             0.4,
             "#fde0ef"
            ],
            [
             0.5,
             "#f7f7f7"
            ],
            [
             0.6,
             "#e6f5d0"
            ],
            [
             0.7,
             "#b8e186"
            ],
            [
             0.8,
             "#7fbc41"
            ],
            [
             0.9,
             "#4d9221"
            ],
            [
             1,
             "#276419"
            ]
           ],
           "sequential": [
            [
             0,
             "#0d0887"
            ],
            [
             0.1111111111111111,
             "#46039f"
            ],
            [
             0.2222222222222222,
             "#7201a8"
            ],
            [
             0.3333333333333333,
             "#9c179e"
            ],
            [
             0.4444444444444444,
             "#bd3786"
            ],
            [
             0.5555555555555556,
             "#d8576b"
            ],
            [
             0.6666666666666666,
             "#ed7953"
            ],
            [
             0.7777777777777778,
             "#fb9f3a"
            ],
            [
             0.8888888888888888,
             "#fdca26"
            ],
            [
             1,
             "#f0f921"
            ]
           ],
           "sequentialminus": [
            [
             0,
             "#0d0887"
            ],
            [
             0.1111111111111111,
             "#46039f"
            ],
            [
             0.2222222222222222,
             "#7201a8"
            ],
            [
             0.3333333333333333,
             "#9c179e"
            ],
            [
             0.4444444444444444,
             "#bd3786"
            ],
            [
             0.5555555555555556,
             "#d8576b"
            ],
            [
             0.6666666666666666,
             "#ed7953"
            ],
            [
             0.7777777777777778,
             "#fb9f3a"
            ],
            [
             0.8888888888888888,
             "#fdca26"
            ],
            [
             1,
             "#f0f921"
            ]
           ]
          },
          "colorway": [
           "#636efa",
           "#EF553B",
           "#00cc96",
           "#ab63fa",
           "#FFA15A",
           "#19d3f3",
           "#FF6692",
           "#B6E880",
           "#FF97FF",
           "#FECB52"
          ],
          "font": {
           "color": "#2a3f5f"
          },
          "geo": {
           "bgcolor": "white",
           "lakecolor": "white",
           "landcolor": "#E5ECF6",
           "showlakes": true,
           "showland": true,
           "subunitcolor": "white"
          },
          "hoverlabel": {
           "align": "left"
          },
          "hovermode": "closest",
          "mapbox": {
           "style": "light"
          },
          "paper_bgcolor": "white",
          "plot_bgcolor": "#E5ECF6",
          "polar": {
           "angularaxis": {
            "gridcolor": "white",
            "linecolor": "white",
            "ticks": ""
           },
           "bgcolor": "#E5ECF6",
           "radialaxis": {
            "gridcolor": "white",
            "linecolor": "white",
            "ticks": ""
           }
          },
          "scene": {
           "xaxis": {
            "backgroundcolor": "#E5ECF6",
            "gridcolor": "white",
            "gridwidth": 2,
            "linecolor": "white",
            "showbackground": true,
            "ticks": "",
            "zerolinecolor": "white"
           },
           "yaxis": {
            "backgroundcolor": "#E5ECF6",
            "gridcolor": "white",
            "gridwidth": 2,
            "linecolor": "white",
            "showbackground": true,
            "ticks": "",
            "zerolinecolor": "white"
           },
           "zaxis": {
            "backgroundcolor": "#E5ECF6",
            "gridcolor": "white",
            "gridwidth": 2,
            "linecolor": "white",
            "showbackground": true,
            "ticks": "",
            "zerolinecolor": "white"
           }
          },
          "shapedefaults": {
           "line": {
            "color": "#2a3f5f"
           }
          },
          "ternary": {
           "aaxis": {
            "gridcolor": "white",
            "linecolor": "white",
            "ticks": ""
           },
           "baxis": {
            "gridcolor": "white",
            "linecolor": "white",
            "ticks": ""
           },
           "bgcolor": "#E5ECF6",
           "caxis": {
            "gridcolor": "white",
            "linecolor": "white",
            "ticks": ""
           }
          },
          "title": {
           "x": 0.05
          },
          "xaxis": {
           "automargin": true,
           "gridcolor": "white",
           "linecolor": "white",
           "ticks": "",
           "title": {
            "standoff": 15
           },
           "zerolinecolor": "white",
           "zerolinewidth": 2
          },
          "yaxis": {
           "automargin": true,
           "gridcolor": "white",
           "linecolor": "white",
           "ticks": "",
           "title": {
            "standoff": 15
           },
           "zerolinecolor": "white",
           "zerolinewidth": 2
          }
         }
        }
       }
      },
      "image/png": "[encoded data removed]",
      "text/html": [
       "<div>\n",
       "        \n",
       "        \n",
       "            <div id=\"8b9f3e6f-7dc0-4011-a0a5-6209708208fc\" class=\"plotly-graph-div\" style=\"height:525px; width:100%;\"></div>\n",
       "            <script type=\"text/javascript\">\n",
       "                require([\"plotly\"], function(Plotly) {\n",
       "                    window.PLOTLYENV=window.PLOTLYENV || {};\n",
       "                    \n",
       "                if (document.getElementById(\"8b9f3e6f-7dc0-4011-a0a5-6209708208fc\")) {\n",
       "                    Plotly.newPlot(\n",
       "                        '8b9f3e6f-7dc0-4011-a0a5-6209708208fc',\n",
       "                        [{\"cells\": {\"align\": [\"left\", \"center\"], \"fill\": {\"color\": [\"white\"]}, \"font\": {\"size\": 20}, \"height\": 35, \"values\": [[\"Overall Score\", \"Environment\", \"Workers\", \"Community\"], [93, 14.4, 15, 23.6]]}, \"type\": \"table\"}],\n",
       "                        {\"template\": {\"data\": {\"bar\": [{\"error_x\": {\"color\": \"#2a3f5f\"}, \"error_y\": {\"color\": \"#2a3f5f\"}, \"marker\": {\"line\": {\"color\": \"#E5ECF6\", \"width\": 0.5}}, \"type\": \"bar\"}], \"barpolar\": [{\"marker\": {\"line\": {\"color\": \"#E5ECF6\", \"width\": 0.5}}, \"type\": \"barpolar\"}], \"carpet\": [{\"aaxis\": {\"endlinecolor\": \"#2a3f5f\", \"gridcolor\": \"white\", \"linecolor\": \"white\", \"minorgridcolor\": \"white\", \"startlinecolor\": \"#2a3f5f\"}, \"baxis\": {\"endlinecolor\": \"#2a3f5f\", \"gridcolor\": \"white\", \"linecolor\": \"white\", \"minorgridcolor\": \"white\", \"startlinecolor\": \"#2a3f5f\"}, \"type\": \"carpet\"}], \"choropleth\": [{\"colorbar\": {\"outlinewidth\": 0, \"ticks\": \"\"}, \"type\": \"choropleth\"}], \"contour\": [{\"colorbar\": {\"outlinewidth\": 0, \"ticks\": \"\"}, \"colorscale\": [[0.0, \"#0d0887\"], [0.1111111111111111, \"#46039f\"], [0.2222222222222222, \"#7201a8\"], [0.3333333333333333, \"#9c179e\"], [0.4444444444444444, \"#bd3786\"], [0.5555555555555556, \"#d8576b\"], [0.6666666666666666, \"#ed7953\"], [0.7777777777777778, \"#fb9f3a\"], [0.8888888888888888, \"#fdca26\"], [1.0, \"#f0f921\"]], \"type\": \"contour\"}], \"contourcarpet\": [{\"colorbar\": {\"outlinewidth\": 0, \"ticks\": \"\"}, \"type\": \"contourcarpet\"}], \"heatmap\": [{\"colorbar\": {\"outlinewidth\": 0, \"ticks\": \"\"}, \"colorscale\": [[0.0, \"#0d0887\"], [0.1111111111111111, \"#46039f\"], [0.2222222222222222, \"#7201a8\"], [0.3333333333333333, \"#9c179e\"], [0.4444444444444444, \"#bd3786\"], [0.5555555555555556, \"#d8576b\"], [0.6666666666666666, \"#ed7953\"], [0.7777777777777778, \"#fb9f3a\"], [0.8888888888888888, \"#fdca26\"], [1.0, \"#f0f921\"]], \"type\": \"heatmap\"}], \"heatmapgl\": [{\"colorbar\": {\"outlinewidth\": 0, \"ticks\": \"\"}, \"colorscale\": [[0.0, \"#0d0887\"], [0.1111111111111111, \"#46039f\"], [0.2222222222222222, \"#7201a8\"], [0.3333333333333333, \"#9c179e\"], [0.4444444444444444, \"#bd3786\"], [0.5555555555555556, \"#d8576b\"], [0.6666666666666666, \"#ed7953\"], [0.7777777777777778, \"#fb9f3a\"], [0.8888888888888888, \"#fdca26\"], [1.0, \"#f0f921\"]], \"type\": \"heatmapgl\"}], \"histogram\": [{\"marker\": {\"colorbar\": {\"outlinewidth\": 0, \"ticks\": \"\"}}, \"type\": \"histogram\"}], \"histogram2d\": [{\"colorbar\": {\"outlinewidth\": 0, \"ticks\": \"\"}, \"colorscale\": [[0.0, \"#0d0887\"], [0.1111111111111111, \"#46039f\"], [0.2222222222222222, \"#7201a8\"], [0.3333333333333333, \"#9c179e\"], [0.4444444444444444, \"#bd3786\"], [0.5555555555555556, \"#d8576b\"], [0.6666666666666666, \"#ed7953\"], [0.7777777777777778, \"#fb9f3a\"], [0.8888888888888888, \"#fdca26\"], [1.0, \"#f0f921\"]], \"type\": \"histogram2d\"}], \"histogram2dcontour\": [{\"colorbar\": {\"outlinewidth\": 0, \"ticks\": \"\"}, \"colorscale\": [[0.0, \"#0d0887\"], [0.1111111111111111, \"#46039f\"], [0.2222222222222222, \"#7201a8\"], [0.3333333333333333, \"#9c179e\"], [0.4444444444444444, \"#bd3786\"], [0.5555555555555556, \"#d8576b\"], [0.6666666666666666, \"#ed7953\"], [0.7777777777777778, \"#fb9f3a\"], [0.8888888888888888, \"#fdca26\"], [1.0, \"#f0f921\"]], \"type\": \"histogram2dcontour\"}], \"mesh3d\": [{\"colorbar\": {\"outlinewidth\": 0, \"ticks\": \"\"}, \"type\": \"mesh3d\"}], \"parcoords\": [{\"line\": {\"colorbar\": {\"outlinewidth\": 0, \"ticks\": \"\"}}, \"type\": \"parcoords\"}], \"pie\": [{\"automargin\": true, \"type\": \"pie\"}], \"scatter\": [{\"marker\": {\"colorbar\": {\"outlinewidth\": 0, \"ticks\": \"\"}}, \"type\": \"scatter\"}], \"scatter3d\": [{\"line\": {\"colorbar\": {\"outlinewidth\": 0, \"ticks\": \"\"}}, \"marker\": {\"colorbar\": {\"outlinewidth\": 0, \"ticks\": \"\"}}, \"type\": \"scatter3d\"}], \"scattercarpet\": [{\"marker\": {\"colorbar\": {\"outlinewidth\": 0, \"ticks\": \"\"}}, \"type\": \"scattercarpet\"}], \"scattergeo\": [{\"marker\": {\"colorbar\": {\"outlinewidth\": 0, \"ticks\": \"\"}}, \"type\": \"scattergeo\"}], \"scattergl\": [{\"marker\": {\"colorbar\": {\"outlinewidth\": 0, \"ticks\": \"\"}}, \"type\": \"scattergl\"}], \"scattermapbox\": [{\"marker\": {\"colorbar\": {\"outlinewidth\": 0, \"ticks\": \"\"}}, \"type\": \"scattermapbox\"}], \"scatterpolar\": [{\"marker\": {\"colorbar\": {\"outlinewidth\": 0, \"ticks\": \"\"}}, \"type\": \"scatterpolar\"}], \"scatterpolargl\": [{\"marker\": {\"colorbar\": {\"outlinewidth\": 0, \"ticks\": \"\"}}, \"type\": \"scatterpolargl\"}], \"scatterternary\": [{\"marker\": {\"colorbar\": {\"outlinewidth\": 0, \"ticks\": \"\"}}, \"type\": \"scatterternary\"}], \"surface\": [{\"colorbar\": {\"outlinewidth\": 0, \"ticks\": \"\"}, \"colorscale\": [[0.0, \"#0d0887\"], [0.1111111111111111, \"#46039f\"], [0.2222222222222222, \"#7201a8\"], [0.3333333333333333, \"#9c179e\"], [0.4444444444444444, \"#bd3786\"], [0.5555555555555556, \"#d8576b\"], [0.6666666666666666, \"#ed7953\"], [0.7777777777777778, \"#fb9f3a\"], [0.8888888888888888, \"#fdca26\"], [1.0, \"#f0f921\"]], \"type\": \"surface\"}], \"table\": [{\"cells\": {\"fill\": {\"color\": \"#EBF0F8\"}, \"line\": {\"color\": \"white\"}}, \"header\": {\"fill\": {\"color\": \"#C8D4E3\"}, \"line\": {\"color\": \"white\"}}, \"type\": \"table\"}]}, \"layout\": {\"annotationdefaults\": {\"arrowcolor\": \"#2a3f5f\", \"arrowhead\": 0, \"arrowwidth\": 1}, \"coloraxis\": {\"colorbar\": {\"outlinewidth\": 0, \"ticks\": \"\"}}, \"colorscale\": {\"diverging\": [[0, \"#8e0152\"], [0.1, \"#c51b7d\"], [0.2, \"#de77ae\"], [0.3, \"#f1b6da\"], [0.4, \"#fde0ef\"], [0.5, \"#f7f7f7\"], [0.6, \"#e6f5d0\"], [0.7, \"#b8e186\"], [0.8, \"#7fbc41\"], [0.9, \"#4d9221\"], [1, \"#276419\"]], \"sequential\": [[0.0, \"#0d0887\"], [0.1111111111111111, \"#46039f\"], [0.2222222222222222, \"#7201a8\"], [0.3333333333333333, \"#9c179e\"], [0.4444444444444444, \"#bd3786\"], [0.5555555555555556, \"#d8576b\"], [0.6666666666666666, \"#ed7953\"], [0.7777777777777778, \"#fb9f3a\"], [0.8888888888888888, \"#fdca26\"], [1.0, \"#f0f921\"]], \"sequentialminus\": [[0.0, \"#0d0887\"], [0.1111111111111111, \"#46039f\"], [0.2222222222222222, \"#7201a8\"], [0.3333333333333333, \"#9c179e\"], [0.4444444444444444, \"#bd3786\"], [0.5555555555555556, \"#d8576b\"], [0.6666666666666666, \"#ed7953\"], [0.7777777777777778, \"#fb9f3a\"], [0.8888888888888888, \"#fdca26\"], [1.0, \"#f0f921\"]]}, \"colorway\": [\"#636efa\", \"#EF553B\", \"#00cc96\", \"#ab63fa\", \"#FFA15A\", \"#19d3f3\", \"#FF6692\", \"#B6E880\", \"#FF97FF\", \"#FECB52\"], \"font\": {\"color\": \"#2a3f5f\"}, \"geo\": {\"bgcolor\": \"white\", \"lakecolor\": \"white\", \"landcolor\": \"#E5ECF6\", \"showlakes\": true, \"showland\": true, \"subunitcolor\": \"white\"}, \"hoverlabel\": {\"align\": \"left\"}, \"hovermode\": \"closest\", \"mapbox\": {\"style\": \"light\"}, \"paper_bgcolor\": \"white\", \"plot_bgcolor\": \"#E5ECF6\", \"polar\": {\"angularaxis\": {\"gridcolor\": \"white\", \"linecolor\": \"white\", \"ticks\": \"\"}, \"bgcolor\": \"#E5ECF6\", \"radialaxis\": {\"gridcolor\": \"white\", \"linecolor\": \"white\", \"ticks\": \"\"}}, \"scene\": {\"xaxis\": {\"backgroundcolor\": \"#E5ECF6\", \"gridcolor\": \"white\", \"gridwidth\": 2, \"linecolor\": \"white\", \"showbackground\": true, \"ticks\": \"\", \"zerolinecolor\": \"white\"}, \"yaxis\": {\"backgroundcolor\": \"#E5ECF6\", \"gridcolor\": \"white\", \"gridwidth\": 2, \"linecolor\": \"white\", \"showbackground\": true, \"ticks\": \"\", \"zerolinecolor\": \"white\"}, \"zaxis\": {\"backgroundcolor\": \"#E5ECF6\", \"gridcolor\": \"white\", \"gridwidth\": 2, \"linecolor\": \"white\", \"showbackground\": true, \"ticks\": \"\", \"zerolinecolor\": \"white\"}}, \"shapedefaults\": {\"line\": {\"color\": \"#2a3f5f\"}}, \"ternary\": {\"aaxis\": {\"gridcolor\": \"white\", \"linecolor\": \"white\", \"ticks\": \"\"}, \"baxis\": {\"gridcolor\": \"white\", \"linecolor\": \"white\", \"ticks\": \"\"}, \"bgcolor\": \"#E5ECF6\", \"caxis\": {\"gridcolor\": \"white\", \"linecolor\": \"white\", \"ticks\": \"\"}}, \"title\": {\"x\": 0.05}, \"xaxis\": {\"automargin\": true, \"gridcolor\": \"white\", \"linecolor\": \"white\", \"ticks\": \"\", \"title\": {\"standoff\": 15}, \"zerolinecolor\": \"white\", \"zerolinewidth\": 2}, \"yaxis\": {\"automargin\": true, \"gridcolor\": \"white\", \"linecolor\": \"white\", \"ticks\": \"\", \"title\": {\"standoff\": 15}, \"zerolinecolor\": \"white\", \"zerolinewidth\": 2}}}},\n",
       "                        {\"responsive\": true}\n",
       "                    ).then(function(){\n",
       "                            \n",
       "var gd = document.getElementById('8b9f3e6f-7dc0-4011-a0a5-6209708208fc');\n",
       "var x = new MutationObserver(function (mutations, observer) {{\n",
       "        var display = window.getComputedStyle(gd).display;\n",
       "        if (!display || display === 'none') {{\n",
       "            console.log([gd, 'removed!']);\n",
       "            Plotly.purge(gd);\n",
       "            observer.disconnect();\n",
       "        }}\n",
       "}});\n",
       "\n",
       "// Listen for the removal of the full notebook cells\n",
       "var notebookContainer = gd.closest('#notebook-container');\n",
       "if (notebookContainer) {{\n",
       "    x.observe(notebookContainer, {childList: true});\n",
       "}}\n",
       "\n",
       "// Listen for the clearing of the current output cell\n",
       "var outputEl = gd.closest('.output');\n",
       "if (outputEl) {{\n",
       "    x.observe(outputEl, {childList: true});\n",
       "}}\n",
       "\n",
       "                        })\n",
       "                };\n",
       "                });\n",
       "            </script>\n",
       "        </div>"
      ]
     },
     "metadata": {},
     "output_type": "display_data"
    }
   ],
   "source": [
    "areas = [\"Overall Score\", \"Environment\", \"Workers\", \"Community\"]\n",
    "scores = [93, 14.4, 15, 23.6]\n",
    "fig = go.Figure(\n",
    "        data=[\n",
    "            go.Table(\n",
    "                    cells=dict(\n",
    "                        values=[areas, scores],\n",
    "                        fill=dict(color=['white']),\n",
    "                        align=['left', 'center'],\n",
    "                        font_size=20,\n",
    "                        height=35)\n",
    "                )\n",
    "            ]\n",
    "        )\n",
    "fig"
   ]
  },
  {
   "cell_type": "code",
   "execution_count": null,
   "metadata": {},
   "outputs": [],
   "source": []
  }
 ],
 "metadata": {
  "kernelspec": {
   "display_name": "Python 3",
   "language": "python",
   "name": "python3"
  },
  "language_info": {
   "codemirror_mode": {
    "name": "ipython",
    "version": 3
   },
   "file_extension": ".py",
   "mimetype": "text/x-python",
   "name": "python",
   "nbconvert_exporter": "python",
   "pygments_lexer": "ipython3",
   "version": "3.7.7"
  }
 },
 "nbformat": 4,
 "nbformat_minor": 4
}
